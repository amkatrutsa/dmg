{
 "cells": [
  {
   "cell_type": "code",
   "execution_count": 1,
   "metadata": {},
   "outputs": [],
   "source": [
    "import autograd.numpy as np\n",
    "import numpy as pure_np\n",
    "import autograd\n",
    "import scipy.sparse as spsp\n",
    "import scipy.sparse.linalg as spsplin\n",
    "import matplotlib.pyplot as plt\n",
    "%matplotlib inline\n",
    "from numba import njit\n",
    "import pyamg"
   ]
  },
  {
   "cell_type": "markdown",
   "metadata": {},
   "source": [
    "## Generate matrix with PyAMG and compute spectral radius with the default parameters"
   ]
  },
  {
   "cell_type": "code",
   "execution_count": 166,
   "metadata": {},
   "outputs": [
    {
     "name": "stdout",
     "output_type": "stream",
     "text": [
      "multilevel_solver\n",
      "Number of Levels:     4\n",
      "Operator Complexity:  2.085\n",
      "Grid Complexity:      1.667\n",
      "Coarse Solver:        'pinv2'\n",
      "  level   unknowns     nonzeros\n",
      "    0          225         1065 [47.95%]\n",
      "    1          113          897 [40.39%]\n",
      "    2           30          222 [10.00%]\n",
      "    3            7           37 [ 1.67%]\n",
      "\n"
     ]
    }
   ],
   "source": [
    "n = 15\n",
    "k = 5\n",
    "num_levels = 4\n",
    "grid_size = (n, n)\n",
    "A = pyamg.gallery.poisson(grid_size, format='csr')\n",
    "A = A - k**2 * spsp.eye(A.shape[0]) / (n+1)**2\n",
    "\n",
    "ml = pyamg.ruge_stuben_solver(A, CF=\"RS\", max_levels=num_levels, \n",
    "                             presmoother=('jacobi', {'omega': 2.0/3.0, 'iterations': 2, \"withrho\": False}),\n",
    "                             postsmoother=('jacobi', {'omega': 2.0/3.0, 'iterations' : 2, \"withrho\": False})\n",
    "                             )\n",
    "\n",
    "\n",
    "print(ml)\n",
    "num_levels = len(ml.levels)"
   ]
  },
  {
   "cell_type": "code",
   "execution_count": 167,
   "metadata": {},
   "outputs": [
    {
     "data": {
      "text/plain": [
       "(225, 1)"
      ]
     },
     "execution_count": 167,
     "metadata": {},
     "output_type": "execute_result"
    }
   ],
   "source": [
    "x0 = np.zeros((A.shape[0], 1))\n",
    "x_range = np.linspace(0, 1, num=n+2)\n",
    "x_range = x_range[1:-1]\n",
    "if len(grid_size) == 1:\n",
    "    x_true = np.sin(np.pi * x_range)\n",
    "    rhs = np.pi**2 * np.sin(np.pi * x_range) / (n+1)**2\n",
    "elif len(grid_size) == 2:\n",
    "    x_range, y_range = np.meshgrid(x_range, x_range)\n",
    "    x_true = np.sin(np.pi * x_range) * np.sin(np.pi * y_range)\n",
    "    rhs = (2 * np.pi**2 * x_true - k**2 * x_true) / (n+1)**2\n",
    "else:\n",
    "    raise ValueError(\"No support for higher 2 dims\")\n",
    "rhs = rhs.reshape(A.shape[0], 1)\n",
    "rhs.shape"
   ]
  },
  {
   "cell_type": "code",
   "execution_count": 168,
   "metadata": {},
   "outputs": [
    {
     "data": {
      "image/png": "[encoded data removed]",
      "text/plain": [
       "<Figure size 432x288 with 2 Axes>"
      ]
     },
     "metadata": {},
     "output_type": "display_data"
    }
   ],
   "source": [
    "if len(grid_size) == 2:\n",
    "    plt.imshow(rhs.reshape(n, n))\n",
    "    plt.colorbar()\n",
    "elif len(grid_size) == 1:\n",
    "    plt.plot(rhs)"
   ]
  },
  {
   "cell_type": "code",
   "execution_count": 169,
   "metadata": {},
   "outputs": [],
   "source": [
    "x = ml.solve(rhs, tol=1e-10)\n",
    "x = x[:, np.newaxis]"
   ]
  },
  {
   "cell_type": "code",
   "execution_count": 170,
   "metadata": {},
   "outputs": [
    {
     "name": "stdout",
     "output_type": "stream",
     "text": [
      "Residual norm = 1.1791500868909204e-11\n",
      "Error = 0.0951681779000613\n"
     ]
    }
   ],
   "source": [
    "print(\"Residual norm = {}\".format(np.linalg.norm(rhs-A.dot(x))))\n",
    "if len(grid_size) == 2:\n",
    "    print(\"Error = {}\".format(np.linalg.norm(x_true - x.reshape(n, n))))\n",
    "elif len(grid_size) == 1:\n",
    "    print(\"Error = {}\".format(np.linalg.norm(x_true - x.ravel()) / np.linalg.norm(x_true.ravel())))"
   ]
  },
  {
   "cell_type": "code",
   "execution_count": 171,
   "metadata": {},
   "outputs": [
    {
     "name": "stdout",
     "output_type": "stream",
     "text": [
      "(113, 225) (225, 225) (225, 113)\n",
      "(30, 113) (113, 113) (113, 30)\n",
      "(7, 30) (30, 30) (30, 7)\n"
     ]
    },
    {
     "data": {
      "text/plain": [
       "(7, 7)"
      ]
     },
     "execution_count": 171,
     "metadata": {},
     "output_type": "execute_result"
    }
   ],
   "source": [
    "for l in ml.levels[:-1]:\n",
    "    print(l.R.shape, l.A.shape, l.P.shape)\n",
    "ml.levels[-1].A.shape"
   ]
  },
  {
   "cell_type": "code",
   "execution_count": 172,
   "metadata": {},
   "outputs": [],
   "source": [
    "def compute_spectral_radius_pyamg(pyamg_solver):\n",
    "    n = pyamg_solver.levels[0].A.shape[0]\n",
    "    M = spsplin.LinearOperator((n, n), \n",
    "                               matvec=lambda x: pyamg_solver.solve(np.zeros((n, 1)), x0=x, maxiter=1))\n",
    "    rho = spsplin.eigs(M, k=1, return_eigenvectors=False, which=\"LM\")[0]\n",
    "    return abs(rho)"
   ]
  },
  {
   "cell_type": "code",
   "execution_count": 173,
   "metadata": {},
   "outputs": [
    {
     "name": "stdout",
     "output_type": "stream",
     "text": [
      "Spectral radius for default parameters = 0.5925345683304893\n"
     ]
    }
   ],
   "source": [
    "pyamg_rho = compute_spectral_radius_pyamg(ml)\n",
    "print(\"Spectral radius for default parameters = {}\".format(pyamg_rho))"
   ]
  },
  {
   "cell_type": "markdown",
   "metadata": {},
   "source": [
    "## Custom implementation of V-cycle"
   ]
  },
  {
   "cell_type": "code",
   "execution_count": 174,
   "metadata": {},
   "outputs": [],
   "source": [
    "import csr_compatible_primitives as csr_prim"
   ]
  },
  {
   "cell_type": "code",
   "execution_count": 175,
   "metadata": {},
   "outputs": [],
   "source": [
    "def jacobi_smooth_sparse(A_values, A_indices, A_indptr, x0, b, w):\n",
    "    x = x0\n",
    "    n = x.shape[0]\n",
    "    d = csr_prim.get_sparse_diag(A_values, A_indices, A_indptr, n)\n",
    "    for i in range(2):\n",
    "        Ax = csr_prim.csr_matvec(A_values, A_indptr, A_indices, x)\n",
    "        x = x - w * (Ax - b) / d\n",
    "    return x"
   ]
  },
  {
   "cell_type": "code",
   "execution_count": 176,
   "metadata": {},
   "outputs": [],
   "source": [
    "def V_cycle(x0, b, A_values, A_indptr, A_indices, \n",
    "                   P_values, P_indptr, P_indices,\n",
    "                   R_values, R_indptr, R_indices,\n",
    "                   level=1, w=2.0/3.0):\n",
    "    x = x0\n",
    "    if level == 0:\n",
    "        A_full = csr_prim.csr2dense(A_values[level], A_coarse_indices, A_coarse_indptr, A_coarse_indptr.shape[0] - 1)\n",
    "        x = np.linalg.solve(A_full, b)\n",
    "    else:\n",
    "        x = jacobi_smooth_sparse(A_values[level], A_indices[level], A_indptr[level], x, b, w)\n",
    "        Ax = csr_prim.csr_matvec(A_values[level], A_indptr[level], A_indices[level], x)\n",
    "        res = b - Ax\n",
    "        proj_res = csr_prim.csr_matvec(R_values[level], R_indptr[level], R_indices[level], res)\n",
    "        e = np.zeros_like(proj_res)\n",
    "        u = V_cycle(e, proj_res, A_values[:-1], A_indptr[:-1], A_indices[:-1],\n",
    "                    P_values[:-1], P_indptr[:-1], P_indices[:-1], \n",
    "                    R_values[:-1], R_indptr[:-1], R_indices[:-1], \n",
    "                    level-1, w)\n",
    "        Pu = csr_prim.csr_matvec(P_values[level], P_indptr[level], P_indices[level], u)\n",
    "        x = x + Pu\n",
    "        x = jacobi_smooth_sparse(A_values[level], A_indices[level], A_indptr[level], x, b, w)\n",
    "    return x"
   ]
  },
  {
   "cell_type": "code",
   "execution_count": 177,
   "metadata": {},
   "outputs": [],
   "source": [
    "A_list = [l.A.sorted_indices() for l in ml.levels]\n",
    "P_list = [l.P.sorted_indices() for l in ml.levels[:-1]]\n",
    "R_list = [l.R.sorted_indices() for l in ml.levels[:-1]]"
   ]
  },
  {
   "cell_type": "code",
   "execution_count": 178,
   "metadata": {},
   "outputs": [],
   "source": [
    "A_values = [A.data for A in A_list[::-1]]\n",
    "A_indices = [A.indices for A in A_list[::-1]]\n",
    "A_indptr = [A.indptr for A in A_list[::-1]]\n",
    "A_coarse_indices = A_indices[0]\n",
    "A_coarse_indptr = A_indptr[0]"
   ]
  },
  {
   "cell_type": "code",
   "execution_count": 179,
   "metadata": {},
   "outputs": [],
   "source": [
    "P_values = [[]] + [P.data for P in P_list[::-1]]\n",
    "P_indices = [[]] + [P.indices for P in P_list[::-1]]\n",
    "P_indptr = [[]] + [P.indptr for P in P_list[::-1]]"
   ]
  },
  {
   "cell_type": "code",
   "execution_count": 180,
   "metadata": {},
   "outputs": [],
   "source": [
    "R_values = [[]] + [R.data for R in R_list[::-1]]\n",
    "R_indices = [[]] + [R.indices for R in R_list[::-1]]\n",
    "R_indptr = [[]] + [R.indptr for R in R_list[::-1]]"
   ]
  },
  {
   "cell_type": "code",
   "execution_count": 181,
   "metadata": {},
   "outputs": [
    {
     "name": "stdout",
     "output_type": "stream",
     "text": [
      "0.12227546174976342\n",
      "0.06961984638292555\n",
      "0.0414932625550234\n",
      "0.024560975207435266\n",
      "0.01455594338695644\n",
      "0.00862458960411612\n",
      "0.0051104044833970895\n",
      "0.0030280867122030805\n",
      "0.0017942466452100874\n",
      "0.0010631530829741562\n"
     ]
    }
   ],
   "source": [
    "x = np.zeros((A.shape[0], 1))\n",
    "for i in range(10):\n",
    "    x = V_cycle(x, rhs, A_values, A_indptr, A_indices, \n",
    "                       P_values, P_indptr, P_indices,\n",
    "                       R_values, R_indptr, R_indices,\n",
    "                       level=num_levels-1, w=2.0/3.0)\n",
    "    print(np.linalg.norm(A.dot(x) - rhs))"
   ]
  },
  {
   "cell_type": "markdown",
   "metadata": {},
   "source": [
    "### Compare spectral radius with PyAMG"
   ]
  },
  {
   "cell_type": "code",
   "execution_count": 182,
   "metadata": {},
   "outputs": [],
   "source": [
    "def generate_all_A(A_csr_value, A_csr_indices, A_csr_indptr, \n",
    "                   P_values, P_indices, P_indptr, \n",
    "                   R_values, R_indices, R_indptr,\n",
    "                   RAP_list_indices, RAP_list_indptr, level=1):\n",
    "    \n",
    "    A_values = [[] for i in range(level+1)]\n",
    "    A_indices = RAP_list_indices + [A_csr_indices]\n",
    "    A_indptr = RAP_list_indptr + [A_csr_indptr]\n",
    "    A_values[level] = A_csr_value\n",
    "#     A_indices[level] = A_csr_indices\n",
    "#     A_indptr[level] = A_csr_indptr\n",
    "    \n",
    "    for l in range(level-1, -1, -1):\n",
    "        n = A_indptr[l+1].shape[0] - 1\n",
    "        n_coarse = R_indptr[l+1].shape[0] - 1\n",
    "        A_values[l], _, _ = csr_prim.csr_3mat(R_values[l+1], R_indptr[l+1], R_indices[l+1], \n",
    "                                     A_values[l+1], A_indptr[l+1], A_indices[l+1], \n",
    "                                     P_values[l+1], P_indptr[l+1], P_indices[l+1], \n",
    "                                     n_coarse, n, n, n_coarse)\n",
    "    return A_values, A_indices, A_indptr\n",
    "\n",
    "def multigrid_matvec(x, A_values, A_indptr, A_indices, \n",
    "                   P_values, P_indptr, P_indices,\n",
    "                   R_values, R_indptr, R_indices,\n",
    "                   level, w):\n",
    "    \n",
    "    rhs = np.zeros((A_indptr[-1].shape[0] - 1, 1))\n",
    "    if len(x.shape) == 1:\n",
    "        x = x[:, np.newaxis]\n",
    "    y = V_cycle(x, rhs, A_values, A_indptr, A_indices, \n",
    "                   P_values, P_indptr, P_indices,\n",
    "                   R_values, R_indptr, R_indices,\n",
    "                   level, w)\n",
    "    return y\n",
    "\n",
    "def compute_spectral_radius_multigrid(A, \n",
    "                   P_values, P_indptr, P_indices,\n",
    "                   R_values, R_indptr, R_indices,\n",
    "                   level, w):\n",
    "    A_values, A_indices_, A_indptr_ = generate_all_A(A.data, A.indices, A.indptr, P_values, P_indices, P_indptr, \n",
    "                   R_values, R_indices, R_indptr,\n",
    "                   A_indices, A_indptr, level)\n",
    "    M = spsplin.LinearOperator((A_indptr_[-1].shape[0] - 1, A_indptr_[-1].shape[0] - 1), \n",
    "                               matvec=lambda x: multigrid_matvec(x, A_values, A_indptr_, A_indices_, \n",
    "                                               P_values, P_indptr, P_indices,\n",
    "                                               R_values, R_indptr, R_indices,\n",
    "                                               level, w))\n",
    "    rho = spsplin.eigs(M, k=1, return_eigenvectors=False, which=\"LM\")[0]\n",
    "    return abs(rho)"
   ]
  },
  {
   "cell_type": "code",
   "execution_count": 183,
   "metadata": {},
   "outputs": [
    {
     "data": {
      "text/plain": [
       "0.5925345683304896"
      ]
     },
     "execution_count": 183,
     "metadata": {},
     "output_type": "execute_result"
    }
   ],
   "source": [
    "compute_spectral_radius_multigrid(A, \n",
    "                   P_values, P_indptr, P_indices,\n",
    "                   R_values, R_indptr, R_indices,\n",
    "                   level=num_levels-1, w=2./3)"
   ]
  },
  {
   "cell_type": "markdown",
   "metadata": {},
   "source": [
    "## Define all for optimization"
   ]
  },
  {
   "cell_type": "code",
   "execution_count": 184,
   "metadata": {},
   "outputs": [],
   "source": [
    "def v_cycle_objective(R_values_active, P_values_active, w, x, num_levels):\n",
    "    K = 10\n",
    "    rhs = np.zeros((A.shape[0], num_trials))\n",
    "    P_values = [[]] + P_values_active\n",
    "    R_values = [[]] + R_values_active\n",
    "    A_values, A_indices_, A_indptr_ = generate_all_A(A.data, A.indices, A.indptr, \n",
    "                                                   P_values, P_indices, P_indptr, \n",
    "                                                   R_values, R_indices, R_indptr,\n",
    "                                                   A_indices, A_indptr, \n",
    "                                                   num_levels)\n",
    "    for i in range(K):\n",
    "        x = V_cycle(x, rhs, A_values, A_indptr_, A_indices_, \n",
    "                   P_values, P_indptr, P_indices,\n",
    "                   R_values, R_indptr, R_indices,\n",
    "                   num_levels, w)\n",
    "    loss = np.linalg.norm(x, \"fro\")**2\n",
    "    return np.log(loss)"
   ]
  },
  {
   "cell_type": "code",
   "execution_count": 185,
   "metadata": {},
   "outputs": [
    {
     "data": {
      "text/plain": [
       "-8.614373205045888"
      ]
     },
     "execution_count": 185,
     "metadata": {},
     "output_type": "execute_result"
    }
   ],
   "source": [
    "R_values_active = [R.data for R in R_list[::-1]]\n",
    "P_values_active = [P.data for P in P_list[::-1]]\n",
    "w = 2./3\n",
    "num_trials = 5\n",
    "x_batch = 2 * np.random.randint(0, 2, (A.shape[0], num_trials)) - 1\n",
    "v_cycle_objective(R_values_active, P_values_active, w, x_batch, num_levels=num_levels-1)"
   ]
  },
  {
   "cell_type": "code",
   "execution_count": 186,
   "metadata": {},
   "outputs": [],
   "source": [
    "grad = autograd.grad(v_cycle_objective, 0)"
   ]
  },
  {
   "cell_type": "code",
   "execution_count": 150,
   "metadata": {},
   "outputs": [
    {
     "data": {
      "text/plain": [
       "[array([-0.02359686, -0.02085833, -0.03257162, ...,  0.00338815,\n",
       "         0.00101459,  0.00301887])]"
      ]
     },
     "execution_count": 150,
     "metadata": {},
     "output_type": "execute_result"
    }
   ],
   "source": [
    "grad(R_values_active, P_values_active, w, x_batch, num_levels=num_levels-1)"
   ]
  },
  {
   "cell_type": "code",
   "execution_count": 96,
   "metadata": {},
   "outputs": [
    {
     "name": "stdout",
     "output_type": "stream",
     "text": [
      "92.1 ms ± 2.75 ms per loop (mean ± std. dev. of 7 runs, 10 loops each)\n"
     ]
    }
   ],
   "source": [
    "%timeit grad(R_values_active, P_values_active, w, x_batch, num_levels=num_levels-1)"
   ]
  },
  {
   "cell_type": "markdown",
   "metadata": {},
   "source": [
    "### Optimization utilities"
   ]
  },
  {
   "cell_type": "code",
   "execution_count": 187,
   "metadata": {},
   "outputs": [],
   "source": [
    "from autograd.misc import flatten\n",
    "from autograd.wrap_util import wraps\n",
    "\n",
    "def unflatten_optimizer(optimize):\n",
    "    \"\"\"Takes an optimizer that operates on flat 1D numpy arrays and returns a\n",
    "    wrapped version that handles trees of nested containers (lists/tuples/dicts)\n",
    "    with arrays/scalars at the leaves.\"\"\"\n",
    "    @wraps(optimize)\n",
    "    def _optimize(grad, x0, callback=None, *args, **kwargs):\n",
    "        _x0, unflatten = flatten(x0)\n",
    "        _grad = lambda x, i: flatten(grad(unflatten(x), i))[0]\n",
    "        if callback:\n",
    "            _callback = lambda x, i, g, num_iter, *args, **kwargs: callback(unflatten(x), i, unflatten(g), num_iter, *args, **kwargs)\n",
    "        else:\n",
    "            _callback = None\n",
    "        return unflatten(optimize(_grad, _x0, _callback, *args, **kwargs))\n",
    "\n",
    "    return _optimize"
   ]
  },
  {
   "cell_type": "code",
   "execution_count": 188,
   "metadata": {},
   "outputs": [],
   "source": [
    "@unflatten_optimizer\n",
    "def adam(grad, x, callback=None, num_iters=100,\n",
    "         step_size=0.001, b1=0.9, b2=0.999, eps=10**-8, *args, **kwargs):\n",
    "    \"\"\"Adam as described in http://arxiv.org/pdf/1412.6980.pdf.\n",
    "    It's basically RMSprop with momentum and some correction terms.\"\"\"\n",
    "    m = np.zeros(len(x))\n",
    "    v = np.zeros(len(x))\n",
    "    for i in range(num_iters):\n",
    "        g = grad(x, i)\n",
    "        if callback: callback(x, i, g, num_iters, *args, **kwargs)\n",
    "        m = (1 - b1) * g      + b1 * m  # First  moment estimate.\n",
    "        v = (1 - b2) * (g**2) + b2 * v  # Second moment estimate.\n",
    "        mhat = m / (1 - b1**(i + 1))    # Bias correction.\n",
    "        vhat = v / (1 - b2**(i + 1))\n",
    "        x = x - step_size*mhat/(np.sqrt(vhat) + eps)\n",
    "    return x"
   ]
  },
  {
   "cell_type": "code",
   "execution_count": 189,
   "metadata": {},
   "outputs": [],
   "source": [
    "def my_test_callback(params, current_iter, gradient, num_iters):\n",
    "    if current_iter == 0 or (current_iter + 1) % 100 == 0:\n",
    "        print(\"Iteration {}\".format(current_iter + 1))\n",
    "#         print(\"Spectral radius = {}\".format(compute_spectral_radius_multigrid(A, \n",
    "#                    [[]] + params[1], P_indptr, P_indices,\n",
    "#                    [[]] + params[0], R_indptr, R_indices,\n",
    "#                    num_levels-1, params[2])))\n",
    "        u = np.random.randint(0, 2, size=(A.shape[0], num_trials))\n",
    "        u = 2 * u - 1\n",
    "        print(\"Current objective value = {}\".format(v_cycle_objective(params[0], params[1], params[2], \n",
    "                                                                      u, num_levels=num_levels-1)))"
   ]
  },
  {
   "cell_type": "code",
   "execution_count": 190,
   "metadata": {},
   "outputs": [],
   "source": [
    "def obj(param, n_iter):\n",
    "    x = 2 * np.random.randint(0, 2, (A.shape[0], num_trials)) - 1\n",
    "    return objective(param[0], param[1], param[2], x)\n",
    "\n",
    "def v_cycle_obj(param, n_iter):\n",
    "    x = 2 * np.random.randint(0, 2, (A.shape[0], num_trials)) - 1\n",
    "    return v_cycle_objective(param[0], param[1], param[2], x, num_levels=num_levels-1)\n",
    "\n",
    "grad_v_cycle_obj = autograd.grad(v_cycle_obj)\n",
    "num_iters = 1000\n",
    "step_size = 1e-4"
   ]
  },
  {
   "cell_type": "code",
   "execution_count": 191,
   "metadata": {},
   "outputs": [
    {
     "name": "stderr",
     "output_type": "stream",
     "text": [
      "/Users/alex/anaconda3/envs/multigrid/lib/python3.5/site-packages/autograd/numpy/numpy_vjps.py:444: FutureWarning: Using a non-tuple sequence for multidimensional indexing is deprecated; use `arr[tuple(seq)]` instead of `arr[seq]`. In the future this will be interpreted as an array index, `arr[np.array(seq)]`, which will result either in an error or a different result.\n",
      "  return lambda g: g[idxs]\n",
      "/Users/alex/anaconda3/envs/multigrid/lib/python3.5/site-packages/autograd/numpy/numpy_vjps.py:444: FutureWarning: Using a non-tuple sequence for multidimensional indexing is deprecated; use `arr[tuple(seq)]` instead of `arr[seq]`. In the future this will be interpreted as an array index, `arr[np.array(seq)]`, which will result either in an error or a different result.\n",
      "  return lambda g: g[idxs]\n"
     ]
    },
    {
     "name": "stdout",
     "output_type": "stream",
     "text": [
      "Iteration 1\n",
      "Current objective value = -8.381231874075352\n",
      "Iteration 100\n",
      "Current objective value = -29.589834669820906\n",
      "Iteration 200\n",
      "Current objective value = -39.20615081103562\n",
      "Iteration 300\n",
      "Current objective value = -43.644293058842536\n",
      "Iteration 400\n",
      "Current objective value = -46.09086554017426\n",
      "Iteration 500\n",
      "Current objective value = -47.40054679043881\n",
      "Iteration 600\n",
      "Current objective value = -48.1923574827196\n",
      "Iteration 700\n",
      "Current objective value = -49.52855077378398\n",
      "Iteration 800\n",
      "Current objective value = -50.365482864862514\n",
      "Iteration 900\n",
      "Current objective value = -50.658197215433695\n",
      "Iteration 1000\n",
      "Current objective value = -51.20915520220764\n"
     ]
    }
   ],
   "source": [
    "PRd_opt = adam(grad_v_cycle_obj, (R_values_active, P_values_active, w), my_test_callback, num_iters, step_size, 0.9, 0.999, 10**-8)"
   ]
  },
  {
   "cell_type": "code",
   "execution_count": 192,
   "metadata": {},
   "outputs": [
    {
     "name": "stdout",
     "output_type": "stream",
     "text": [
      "Spectral radius = 0.06150351444612938\n"
     ]
    }
   ],
   "source": [
    "print(\"Spectral radius = {}\".format(compute_spectral_radius_multigrid(A, \n",
    "                   [[]] + PRd_opt[1], P_indptr, P_indices,\n",
    "                   [[]] + PRd_opt[0], R_indptr, R_indices,\n",
    "                   num_levels-1, PRd_opt[2])))"
   ]
  },
  {
   "cell_type": "code",
   "execution_count": null,
   "metadata": {},
   "outputs": [],
   "source": []
  }
 ],
 "metadata": {
  "kernelspec": {
   "display_name": "Python (multigrid)",
   "language": "python",
   "name": "multigrid"
  },
  "language_info": {
   "codemirror_mode": {
    "name": "ipython",
    "version": 3
   },
   "file_extension": ".py",
   "mimetype": "text/x-python",
   "name": "python",
   "nbconvert_exporter": "python",
   "pygments_lexer": "ipython3",
   "version": "3.5.4"
  }
 },
 "nbformat": 4,
 "nbformat_minor": 2
}

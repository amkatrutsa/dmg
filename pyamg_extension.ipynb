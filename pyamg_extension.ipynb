{
 "cells": [
  {
   "cell_type": "code",
   "execution_count": 1,
   "metadata": {
    "collapsed": true
   },
   "outputs": [],
   "source": [
    "import autograd.numpy as np\n",
    "import numpy as pure_np\n",
    "import autograd\n",
    "import scipy.sparse as spsp\n",
    "import scipy.sparse.linalg as spsplin\n",
    "import matplotlib.pyplot as plt\n",
    "%matplotlib inline\n",
    "from numba import njit\n",
    "import pyamg"
   ]
  },
  {
   "cell_type": "markdown",
   "metadata": {},
   "source": [
    "## Generate matrix with PyAMG and compute spectral radius with the default parameters"
   ]
  },
  {
   "cell_type": "code",
   "execution_count": 34,
   "metadata": {
    "collapsed": false
   },
   "outputs": [
    {
     "name": "stdout",
     "output_type": "stream",
     "text": [
      "multilevel_solver\n",
      "Number of Levels:     4\n",
      "Operator Complexity:  2.142\n",
      "Grid Complexity:      1.661\n",
      "Coarse Solver:        'pinv2'\n",
      "  level   unknowns     nonzeros\n",
      "    0          961         4681 [46.68%]\n",
      "    1          481         4081 [40.70%]\n",
      "    2          123         1031 [10.28%]\n",
      "    3           31          235 [ 2.34%]\n",
      "\n"
     ]
    }
   ],
   "source": [
    "n = 31\n",
    "k = 0\n",
    "num_levels = 4\n",
    "grid_size = (n, n)\n",
    "A = pyamg.gallery.poisson(grid_size, format='csr')\n",
    "A = A - k**2 * spsp.eye(A.shape[0]) / (n+1)**2\n",
    "\n",
    "ml = pyamg.ruge_stuben_solver(A, CF=\"RS\", max_levels=num_levels, \n",
    "                             presmoother=('jacobi', {'omega': 2.0/3.0, 'iterations': 2, \"withrho\": False}),\n",
    "                             postsmoother=('jacobi', {'omega': 2.0/3.0, 'iterations' : 2, \"withrho\": False})\n",
    "                             )\n",
    "\n",
    "\n",
    "print(ml)\n",
    "num_levels = len(ml.levels)"
   ]
  },
  {
   "cell_type": "code",
   "execution_count": 35,
   "metadata": {
    "collapsed": false
   },
   "outputs": [
    {
     "data": {
      "text/plain": [
       "(961, 1)"
      ]
     },
     "execution_count": 35,
     "metadata": {},
     "output_type": "execute_result"
    }
   ],
   "source": [
    "x0 = np.zeros((A.shape[0], 1))\n",
    "x_range = np.linspace(0, 1, num=n+2)\n",
    "x_range = x_range[1:-1]\n",
    "if len(grid_size) == 1:\n",
    "    x_true = np.sin(np.pi * x_range)\n",
    "    rhs = np.pi**2 * np.sin(np.pi * x_range) / (n+1)**2\n",
    "elif len(grid_size) == 2:\n",
    "    x_range, y_range = np.meshgrid(x_range, x_range)\n",
    "    x_true = np.sin(np.pi * x_range) * np.sin(np.pi * y_range)\n",
    "    rhs = (2 * np.pi**2 * x_true - k**2 * x_true) / (n+1)**2\n",
    "else:\n",
    "    raise ValueError(\"No support for higher 2 dims\")\n",
    "rhs = rhs.reshape(A.shape[0], 1)\n",
    "rhs.shape"
   ]
  },
  {
   "cell_type": "code",
   "execution_count": 36,
   "metadata": {
    "collapsed": false
   },
   "outputs": [
    {
     "data": {
      "image/png": "[encoded data removed]",
      "text/plain": [
       "<Figure size 432x288 with 2 Axes>"
      ]
     },
     "metadata": {},
     "output_type": "display_data"
    }
   ],
   "source": [
    "if len(grid_size) == 2:\n",
    "    plt.imshow(rhs.reshape(n, n))\n",
    "    plt.colorbar()\n",
    "elif len(grid_size) == 1:\n",
    "    plt.plot(rhs)"
   ]
  },
  {
   "cell_type": "code",
   "execution_count": 37,
   "metadata": {
    "collapsed": true
   },
   "outputs": [],
   "source": [
    "x = ml.solve(rhs, tol=1e-10)\n",
    "x = x[:, np.newaxis]"
   ]
  },
  {
   "cell_type": "code",
   "execution_count": 38,
   "metadata": {
    "collapsed": false
   },
   "outputs": [
    {
     "name": "stdout",
     "output_type": "stream",
     "text": [
      "Residual norm = 2.328684364981122e-11\n",
      "Error = 0.012857242785997963\n"
     ]
    }
   ],
   "source": [
    "print(\"Residual norm = {}\".format(np.linalg.norm(rhs-A.dot(x))))\n",
    "if len(grid_size) == 2:\n",
    "    print(\"Error = {}\".format(np.linalg.norm(x_true - x.reshape(n, n))))\n",
    "elif len(grid_size) == 1:\n",
    "    print(\"Error = {}\".format(np.linalg.norm(x_true - x.ravel()) / np.linalg.norm(x_true.ravel())))"
   ]
  },
  {
   "cell_type": "code",
   "execution_count": 39,
   "metadata": {
    "collapsed": false
   },
   "outputs": [
    {
     "name": "stdout",
     "output_type": "stream",
     "text": [
      "(481, 961) (961, 961) (961, 481)\n",
      "(123, 481) (481, 481) (481, 123)\n",
      "(31, 123) (123, 123) (123, 31)\n"
     ]
    },
    {
     "data": {
      "text/plain": [
       "(31, 31)"
      ]
     },
     "execution_count": 39,
     "metadata": {},
     "output_type": "execute_result"
    }
   ],
   "source": [
    "for l in ml.levels[:-1]:\n",
    "    print(l.R.shape, l.A.shape, l.P.shape)\n",
    "ml.levels[-1].A.shape"
   ]
  },
  {
   "cell_type": "code",
   "execution_count": 40,
   "metadata": {
    "collapsed": true
   },
   "outputs": [],
   "source": [
    "def compute_spectral_radius_pyamg(pyamg_solver):\n",
    "    n = pyamg_solver.levels[0].A.shape[0]\n",
    "    M = spsplin.LinearOperator((n, n), \n",
    "                               matvec=lambda x: pyamg_solver.solve(np.zeros((n, 1)), x0=x, maxiter=1))\n",
    "    rho = spsplin.eigs(M, k=1, return_eigenvectors=False, which=\"LM\")[0]\n",
    "    return abs(rho)"
   ]
  },
  {
   "cell_type": "code",
   "execution_count": 41,
   "metadata": {
    "collapsed": false
   },
   "outputs": [
    {
     "name": "stdout",
     "output_type": "stream",
     "text": [
      "Spectral radius for default parameters = 0.12374172183023337\n"
     ]
    }
   ],
   "source": [
    "pyamg_rho = compute_spectral_radius_pyamg(ml)\n",
    "print(\"Spectral radius for default parameters = {}\".format(pyamg_rho))"
   ]
  },
  {
   "cell_type": "markdown",
   "metadata": {},
   "source": [
    "## Custom implementation of V-cycle"
   ]
  },
  {
   "cell_type": "code",
   "execution_count": 42,
   "metadata": {
    "collapsed": true
   },
   "outputs": [],
   "source": [
    "import csr_compatible_primitives as csr_prim"
   ]
  },
  {
   "cell_type": "code",
   "execution_count": 43,
   "metadata": {
    "collapsed": true
   },
   "outputs": [],
   "source": [
    "def jacobi_smooth_sparse(A_values, A_indices, A_indptr, x0, b, w):\n",
    "    x = x0\n",
    "    n = x.shape[0]\n",
    "    d = csr_prim.get_sparse_diag(A_values, A_indices, A_indptr, n)\n",
    "    for i in range(2):\n",
    "        Ax = csr_prim.csr_matvec(A_values, A_indptr, A_indices, x)\n",
    "        x = x - w * (Ax - b) / d\n",
    "    return x"
   ]
  },
  {
   "cell_type": "code",
   "execution_count": 44,
   "metadata": {
    "collapsed": true
   },
   "outputs": [],
   "source": [
    "def V_cycle(x0, b, A_values, A_indptr, A_indices, \n",
    "                   P_values, P_indptr, P_indices,\n",
    "                   R_values, R_indptr, R_indices,\n",
    "                   level=1, w=2.0/3.0):\n",
    "    x = x0\n",
    "    if level == 0:\n",
    "        A_full = csr_prim.csr2dense(A_values[level], A_coarse_indices, A_coarse_indptr, A_coarse_indptr.shape[0] - 1)\n",
    "        x = np.linalg.solve(A_full, b)\n",
    "    else:\n",
    "        x = jacobi_smooth_sparse(A_values[level], A_indices[level], A_indptr[level], x, b, w)\n",
    "        Ax = csr_prim.csr_matvec(A_values[level], A_indptr[level], A_indices[level], x)\n",
    "        res = b - Ax\n",
    "        proj_res = csr_prim.csr_matvec(R_values[level], R_indptr[level], R_indices[level], res)\n",
    "        e = np.zeros_like(proj_res)\n",
    "        u = V_cycle(e, proj_res, A_values[:-1], A_indptr[:-1], A_indices[:-1],\n",
    "                    P_values[:-1], P_indptr[:-1], P_indices[:-1], \n",
    "                    R_values[:-1], R_indptr[:-1], R_indices[:-1], \n",
    "                    level-1, w)\n",
    "        Pu = csr_prim.csr_matvec(P_values[level], P_indptr[level], P_indices[level], u)\n",
    "        x = x + Pu\n",
    "        x = jacobi_smooth_sparse(A_values[level], A_indices[level], A_indptr[level], x, b, w)\n",
    "    return x"
   ]
  },
  {
   "cell_type": "code",
   "execution_count": 45,
   "metadata": {
    "collapsed": true
   },
   "outputs": [],
   "source": [
    "A_list = [l.A.sorted_indices() for l in ml.levels]\n",
    "P_list = [l.P.sorted_indices() for l in ml.levels[:-1]]\n",
    "R_list = [l.R.sorted_indices() for l in ml.levels[:-1]]"
   ]
  },
  {
   "cell_type": "code",
   "execution_count": 46,
   "metadata": {
    "collapsed": true
   },
   "outputs": [],
   "source": [
    "A_values = [A.data for A in A_list[::-1]]\n",
    "A_indices = [A.indices for A in A_list[::-1]]\n",
    "A_indptr = [A.indptr for A in A_list[::-1]]\n",
    "A_coarse_indices = A_indices[0]\n",
    "A_coarse_indptr = A_indptr[0]"
   ]
  },
  {
   "cell_type": "code",
   "execution_count": 47,
   "metadata": {
    "collapsed": true
   },
   "outputs": [],
   "source": [
    "P_values = [[]] + [P.data for P in P_list[::-1]]\n",
    "P_indices = [[]] + [P.indices for P in P_list[::-1]]\n",
    "P_indptr = [[]] + [P.indptr for P in P_list[::-1]]"
   ]
  },
  {
   "cell_type": "code",
   "execution_count": 48,
   "metadata": {
    "collapsed": true
   },
   "outputs": [],
   "source": [
    "R_values = [[]] + [R.data for R in R_list[::-1]]\n",
    "R_indices = [[]] + [R.indices for R in R_list[::-1]]\n",
    "R_indptr = [[]] + [R.indptr for R in R_list[::-1]]"
   ]
  },
  {
   "cell_type": "code",
   "execution_count": 49,
   "metadata": {
    "collapsed": false
   },
   "outputs": [
    {
     "name": "stdout",
     "output_type": "stream",
     "text": [
      "0.0466546476475891\n",
      "0.005322383227502576\n",
      "0.0006187888518181266\n",
      "7.176399240734143e-05\n",
      "8.325738898542022e-06\n",
      "9.71357805646475e-07\n",
      "1.1418394437670974e-07\n",
      "1.3522820879285955e-08\n",
      "1.6121879380495484e-09\n",
      "1.9329985378764294e-10\n"
     ]
    }
   ],
   "source": [
    "x = np.zeros((A.shape[0], 1))\n",
    "for i in range(10):\n",
    "    x = V_cycle(x, rhs, A_values, A_indptr, A_indices, \n",
    "                       P_values, P_indptr, P_indices,\n",
    "                       R_values, R_indptr, R_indices,\n",
    "                       level=num_levels-1, w=2.0/3.0)\n",
    "    print(np.linalg.norm(A.dot(x) - rhs))"
   ]
  },
  {
   "cell_type": "markdown",
   "metadata": {},
   "source": [
    "### Compare spectral radius with PyAMG"
   ]
  },
  {
   "cell_type": "code",
   "execution_count": 50,
   "metadata": {
    "collapsed": true
   },
   "outputs": [],
   "source": [
    "def generate_all_A(A_csr_value, A_csr_indices, A_csr_indptr, \n",
    "                   P_values, P_indices, P_indptr, \n",
    "                   R_values, R_indices, R_indptr,\n",
    "                   RAP_list_indices, RAP_list_indptr, level=1):\n",
    "    \n",
    "    A_values = [[] for i in range(level+1)]\n",
    "    A_indices = RAP_list_indices[:-1] + [A_csr_indices]\n",
    "    A_indptr = RAP_list_indptr[:-1] + [A_csr_indptr]\n",
    "    A_values[level] = A_csr_value\n",
    "#     A_indices[level] = A_csr_indices\n",
    "#     A_indptr[level] = A_csr_indptr\n",
    "    \n",
    "    for l in range(level-1, -1, -1):\n",
    "        n = A_indptr[l+1].shape[0] - 1\n",
    "        n_coarse = R_indptr[l+1].shape[0] - 1\n",
    "        A_values[l], _, _ = csr_prim.csr_3mat(R_values[l+1], R_indptr[l+1], R_indices[l+1], \n",
    "                                     A_values[l+1], A_indptr[l+1], A_indices[l+1], \n",
    "                                     P_values[l+1], P_indptr[l+1], P_indices[l+1], \n",
    "                                     A_indices[l], A_indptr[l],\n",
    "                                     n_coarse, n, n, n_coarse)\n",
    "    return A_values, A_indices, A_indptr\n",
    "\n",
    "def multigrid_matvec(x, A_values, A_indptr, A_indices, \n",
    "                   P_values, P_indptr, P_indices,\n",
    "                   R_values, R_indptr, R_indices,\n",
    "                   level, w):\n",
    "    \n",
    "    rhs = np.zeros((A_indptr[-1].shape[0] - 1, 1))\n",
    "    if len(x.shape) == 1:\n",
    "        x = x[:, np.newaxis]\n",
    "    y = V_cycle(x, rhs, A_values, A_indptr, A_indices, \n",
    "                   P_values, P_indptr, P_indices,\n",
    "                   R_values, R_indptr, R_indices,\n",
    "                   level, w)\n",
    "    return y\n",
    "\n",
    "def compute_spectral_radius_multigrid(A, \n",
    "                   P_values, P_indptr, P_indices,\n",
    "                   R_values, R_indptr, R_indices,\n",
    "                   level, w):\n",
    "    A_values, A_indices_, A_indptr_ = generate_all_A(A.data, A.indices, A.indptr, P_values, P_indices, P_indptr, \n",
    "                   R_values, R_indices, R_indptr,\n",
    "                   A_indices, A_indptr, level)\n",
    "    M = spsplin.LinearOperator((A_indptr_[-1].shape[0] - 1, A_indptr_[-1].shape[0] - 1), \n",
    "                               matvec=lambda x: multigrid_matvec(x, A_values, A_indptr_, A_indices_, \n",
    "                                               P_values, P_indptr, P_indices,\n",
    "                                               R_values, R_indptr, R_indices,\n",
    "                                               level, w))\n",
    "    rho = spsplin.eigs(M, k=1, return_eigenvectors=False, which=\"LM\")[0]\n",
    "    return abs(rho)"
   ]
  },
  {
   "cell_type": "code",
   "execution_count": 51,
   "metadata": {
    "collapsed": false
   },
   "outputs": [
    {
     "data": {
      "text/plain": [
       "0.1237417218302339"
      ]
     },
     "execution_count": 51,
     "metadata": {},
     "output_type": "execute_result"
    }
   ],
   "source": [
    "compute_spectral_radius_multigrid(A, \n",
    "                   P_values, P_indptr, P_indices,\n",
    "                   R_values, R_indptr, R_indices,\n",
    "                   level=num_levels-1, w=2./3)"
   ]
  },
  {
   "cell_type": "markdown",
   "metadata": {},
   "source": [
    "## Define all for optimization"
   ]
  },
  {
   "cell_type": "code",
   "execution_count": 52,
   "metadata": {
    "collapsed": true
   },
   "outputs": [],
   "source": [
    "def v_cycle_objective(R_values_active, P_values_active, w, x, num_levels):\n",
    "    K = 10\n",
    "    rhs = np.zeros((A.shape[0], num_trials))\n",
    "    P_values = [[]] + P_values_active\n",
    "    R_values = [[]] + R_values_active\n",
    "    A_values, A_indices_, A_indptr_ = generate_all_A(A.data, A.indices, A.indptr, \n",
    "                                                   P_values, P_indices, P_indptr, \n",
    "                                                   R_values, R_indices, R_indptr,\n",
    "                                                   A_indices, A_indptr, \n",
    "                                                   num_levels)\n",
    "    for i in range(K):\n",
    "        x = V_cycle(x, rhs, A_values, A_indptr_, A_indices_, \n",
    "                   P_values, P_indptr, P_indices,\n",
    "                   R_values, R_indptr, R_indices,\n",
    "                   num_levels, w)\n",
    "    loss = np.linalg.norm(x, \"fro\")**2\n",
    "    return np.log(loss)"
   ]
  },
  {
   "cell_type": "code",
   "execution_count": 53,
   "metadata": {
    "collapsed": false
   },
   "outputs": [
    {
     "data": {
      "text/plain": [
       "-38.68525519442679"
      ]
     },
     "execution_count": 53,
     "metadata": {},
     "output_type": "execute_result"
    }
   ],
   "source": [
    "R_values_active = [R.data for R in R_list[::-1]]\n",
    "P_values_active = [P.data for P in P_list[::-1]]\n",
    "w = 2./3\n",
    "num_trials = 5\n",
    "x_batch = 2 * np.random.randint(0, 2, (A.shape[0], num_trials)) - 1\n",
    "v_cycle_objective(R_values_active, P_values_active, w, x_batch, num_levels=num_levels-1)"
   ]
  },
  {
   "cell_type": "code",
   "execution_count": 54,
   "metadata": {
    "collapsed": true
   },
   "outputs": [],
   "source": [
    "grad = autograd.grad(v_cycle_objective, 0)"
   ]
  },
  {
   "cell_type": "code",
   "execution_count": 55,
   "metadata": {
    "collapsed": false
   },
   "outputs": [
    {
     "data": {
      "text/plain": [
       "[array([ 1.29861749e-03, -2.39679605e-03, -3.65951939e-03, -3.81043295e-03,\n",
       "        -5.53916662e-02,  2.48876833e-02,  1.17514210e-01,  2.00033267e-02,\n",
       "        -1.06528509e-01, -2.16288811e-01,  3.38076685e-03,  9.51549134e-03,\n",
       "         5.48184336e-03, -1.74030415e-02,  5.97696202e-03, -7.70235062e-03,\n",
       "        -4.68671213e-02,  7.50946403e-02,  2.13698146e-02,  6.10216268e-02,\n",
       "        -8.35995108e-02,  2.76934897e-02, -5.74650312e-02, -6.27042541e-02,\n",
       "        -7.64273519e-02,  1.99352219e-02, -6.15097114e-02,  6.76931524e-02,\n",
       "         2.69527299e-02, -9.07456135e-02,  4.08512706e-03,  1.91114495e-02,\n",
       "         5.33064909e-01, -1.67036884e-01, -3.82096915e-02, -3.45512233e-01,\n",
       "         5.24497562e-03, -2.93640450e-01,  2.36229235e-02, -3.03137345e-01,\n",
       "         4.04061808e-02,  1.50266267e-01, -5.53788820e-01,  1.50319226e-01,\n",
       "         2.46414351e-01, -2.48710664e-01,  4.38684772e-02, -4.29267034e-02,\n",
       "        -3.87474124e-01,  7.73220936e-02,  3.02965344e-02,  3.08239064e-02,\n",
       "         1.25452859e-03,  5.05863916e-02, -4.33075497e-02, -3.83224570e-02,\n",
       "        -5.59527922e-02, -2.11897210e-02, -4.36312513e-02,  5.41435380e-02,\n",
       "        -6.65199326e-02, -5.11104212e-02,  8.20190321e-02, -2.17904536e-02,\n",
       "         8.00237533e-02, -3.56668685e-01,  1.17688660e-01, -2.03036942e-01,\n",
       "         1.45058152e-01, -2.32787472e-01,  1.00186202e-01, -1.19483287e-01,\n",
       "         2.92781624e-02, -3.74485095e-02,  1.60820336e-01, -2.95523161e-01,\n",
       "         6.81974459e-02, -1.61312374e-01, -6.72876786e-02, -3.34803002e-01,\n",
       "        -9.26245355e-02, -4.49509054e-01, -5.34088617e-01,  2.87217329e-01,\n",
       "        -1.87634077e-01, -2.41538641e-01,  5.06240648e-01,  3.68374289e-01,\n",
       "         3.88569230e-02, -4.25483629e-02,  6.74363404e-02, -5.97506994e-02,\n",
       "        -8.43922331e-02,  1.36838980e-02,  1.36397149e-01,  2.30831290e-02,\n",
       "        -2.32868154e-01,  1.13192958e-01, -3.33900551e-01,  1.21286799e-01,\n",
       "        -1.98042545e-01,  1.24726749e-02,  1.83935400e-02,  2.55675401e-02,\n",
       "        -3.36863970e-02, -5.78400994e-02, -1.25784147e-02, -3.18688952e-01,\n",
       "        -1.71574147e-01, -1.59311779e-01,  1.73870206e-02, -7.01893563e-02,\n",
       "         2.06378892e-01,  8.53007571e-02,  2.67949387e-01,  3.30952030e-01,\n",
       "        -1.57347620e-01,  4.73020760e-01, -5.70161086e-01,  3.34717222e-01,\n",
       "         4.31561234e-02, -3.06811398e-01, -7.13004836e-03,  1.01470572e-01,\n",
       "        -2.06623881e-01,  1.77899472e-01,  2.11544476e-01,  1.12483579e-03,\n",
       "        -2.42164526e-01,  3.48618364e-01, -5.96408398e-01, -5.19501193e-01,\n",
       "         1.38014895e-01,  2.92772956e-02,  1.00805109e-01, -2.01024414e-02,\n",
       "         5.49236896e-04,  4.43582474e-02, -9.08709676e-02, -3.40262005e-02,\n",
       "        -1.95394388e-01,  2.06902377e-01,  2.43739790e-01, -4.47176631e-02,\n",
       "         2.92223935e-01, -8.24668134e-02, -9.22303309e-02, -7.71700338e-03,\n",
       "        -1.49605581e-01, -1.60427813e-01, -2.99147553e-01,  1.54640983e-01,\n",
       "        -4.61899393e-01, -2.60907616e-01,  2.94465702e-01, -8.84385095e-01,\n",
       "         2.64823831e-01,  3.26091083e-01, -2.83309296e-01, -8.81848905e-01,\n",
       "        -9.05441815e-01,  3.44155920e-01,  5.25045579e-01, -2.77480648e-01,\n",
       "         2.01251447e-01, -4.75113868e-01,  2.81024146e-01, -8.14678927e-03,\n",
       "        -1.17493875e-01,  2.62879627e-01, -3.54922507e-01, -2.01276270e-01,\n",
       "        -1.81801458e-01,  2.31836973e-02, -3.15860064e-02,  8.49996524e-03,\n",
       "        -1.63533646e-01,  5.32643411e-02, -4.01965255e-02, -3.36638146e-02,\n",
       "         7.81912878e-03,  5.54180411e-02, -2.64362064e-02, -5.42076435e-02,\n",
       "         3.60085397e-01, -3.88315205e-01,  4.95513759e-01, -2.82335372e-01,\n",
       "        -6.37460282e-02, -3.87867668e-01, -8.16427584e-01, -2.48089256e-01,\n",
       "         2.50052633e-01, -2.80313456e-01, -3.21640886e-02,  3.78002872e-01,\n",
       "        -3.50206960e-01,  2.59456857e-01,  3.31857020e-01, -4.53562258e-01,\n",
       "        -2.58753496e-01, -6.35745772e-02, -2.40859198e-01,  1.43274224e-01,\n",
       "         1.14182087e-01, -2.29098102e-01,  3.81550947e-01, -3.23888067e-02,\n",
       "        -1.91147304e-01, -6.21774038e-02, -8.09712253e-02, -6.99893778e-02,\n",
       "         2.07693512e-01, -5.16118522e-01,  4.15941970e-01, -3.99101752e-01,\n",
       "        -1.42559661e-01,  4.27186696e-02, -2.06543030e-01,  6.03948710e-02,\n",
       "         6.21690170e-02,  6.07575981e-02,  4.60741661e-03, -2.93487098e-02,\n",
       "        -2.76988664e-02,  8.62495829e-03, -4.14651369e-03, -3.95995272e-01,\n",
       "        -2.30348369e-01, -2.96580807e-01,  2.62096268e-01,  1.33277421e-01]),\n",
       " array([ 0.00629658, -0.00949012, -0.003619  , ...,  0.00369027,\n",
       "         0.00298598,  0.00019741]),\n",
       " array([ 0.00528564, -0.00031727,  0.00436103, ..., -0.02359411,\n",
       "        -0.00431465,  0.0071746 ])]"
      ]
     },
     "execution_count": 55,
     "metadata": {},
     "output_type": "execute_result"
    }
   ],
   "source": [
    "grad(R_values_active, P_values_active, w, x_batch, num_levels=num_levels-1)"
   ]
  },
  {
   "cell_type": "code",
   "execution_count": 56,
   "metadata": {
    "collapsed": false
   },
   "outputs": [
    {
     "name": "stdout",
     "output_type": "stream",
     "text": [
      "75.9 ms ± 72.1 µs per loop (mean ± std. dev. of 7 runs, 10 loops each)\n"
     ]
    }
   ],
   "source": [
    "%timeit grad(R_values_active, P_values_active, w, x_batch, num_levels=num_levels-1)"
   ]
  },
  {
   "cell_type": "markdown",
   "metadata": {},
   "source": [
    "### Optimization utilities"
   ]
  },
  {
   "cell_type": "code",
   "execution_count": 57,
   "metadata": {
    "collapsed": true
   },
   "outputs": [],
   "source": [
    "from autograd.misc import flatten\n",
    "from autograd.wrap_util import wraps\n",
    "\n",
    "def unflatten_optimizer(optimize):\n",
    "    \"\"\"Takes an optimizer that operates on flat 1D numpy arrays and returns a\n",
    "    wrapped version that handles trees of nested containers (lists/tuples/dicts)\n",
    "    with arrays/scalars at the leaves.\"\"\"\n",
    "    @wraps(optimize)\n",
    "    def _optimize(grad, x0, callback=None, *args, **kwargs):\n",
    "        _x0, unflatten = flatten(x0)\n",
    "        _grad = lambda x, i: flatten(grad(unflatten(x), i))[0]\n",
    "        if callback:\n",
    "            _callback = lambda x, i, g, num_iter, *args, **kwargs: callback(unflatten(x), i, unflatten(g), num_iter, *args, **kwargs)\n",
    "        else:\n",
    "            _callback = None\n",
    "        return unflatten(optimize(_grad, _x0, _callback, *args, **kwargs))\n",
    "\n",
    "    return _optimize"
   ]
  },
  {
   "cell_type": "code",
   "execution_count": 58,
   "metadata": {
    "collapsed": true
   },
   "outputs": [],
   "source": [
    "@unflatten_optimizer\n",
    "def adam(grad, x, callback=None, num_iters=100,\n",
    "         step_size=0.001, b1=0.9, b2=0.999, eps=10**-8, *args, **kwargs):\n",
    "    \"\"\"Adam as described in http://arxiv.org/pdf/1412.6980.pdf.\n",
    "    It's basically RMSprop with momentum and some correction terms.\"\"\"\n",
    "    m = np.zeros(len(x))\n",
    "    v = np.zeros(len(x))\n",
    "    for i in range(num_iters):\n",
    "        g = grad(x, i)\n",
    "        if callback: callback(x, i, g, num_iters, *args, **kwargs)\n",
    "        m = (1 - b1) * g      + b1 * m  # First  moment estimate.\n",
    "        v = (1 - b2) * (g**2) + b2 * v  # Second moment estimate.\n",
    "        mhat = m / (1 - b1**(i + 1))    # Bias correction.\n",
    "        vhat = v / (1 - b2**(i + 1))\n",
    "        x = x - step_size*mhat/(np.sqrt(vhat) + eps)\n",
    "    return x"
   ]
  },
  {
   "cell_type": "code",
   "execution_count": 59,
   "metadata": {
    "collapsed": true
   },
   "outputs": [],
   "source": [
    "def my_test_callback(params, current_iter, gradient, num_iters):\n",
    "    if current_iter == 0 or (current_iter + 1) % 100 == 0:\n",
    "        print(\"Iteration {}\".format(current_iter + 1))\n",
    "#         print(\"Spectral radius = {}\".format(compute_spectral_radius_multigrid(A, \n",
    "#                    [[]] + params[1], P_indptr, P_indices,\n",
    "#                    [[]] + params[0], R_indptr, R_indices,\n",
    "#                    num_levels-1, params[2])))\n",
    "        u = np.random.randint(0, 2, size=(A.shape[0], num_trials))\n",
    "        u = 2 * u - 1\n",
    "        print(\"Current objective value = {}\".format(v_cycle_objective(params[0], params[1], params[2], \n",
    "                                                                      u, num_levels=num_levels-1)))"
   ]
  },
  {
   "cell_type": "code",
   "execution_count": 60,
   "metadata": {
    "collapsed": true
   },
   "outputs": [],
   "source": [
    "def obj(param, n_iter):\n",
    "    x = 2 * np.random.randint(0, 2, (A.shape[0], num_trials)) - 1\n",
    "    return objective(param[0], param[1], param[2], x)\n",
    "\n",
    "def v_cycle_obj(param, n_iter):\n",
    "    x = 2 * np.random.randint(0, 2, (A.shape[0], num_trials)) - 1\n",
    "    return v_cycle_objective(param[0], param[1], param[2], x, num_levels=num_levels-1)\n",
    "\n",
    "grad_v_cycle_obj = autograd.grad(v_cycle_obj)\n",
    "num_iters = 1000\n",
    "step_size = 1e-4"
   ]
  },
  {
   "cell_type": "code",
   "execution_count": 61,
   "metadata": {
    "collapsed": false
   },
   "outputs": [
    {
     "name": "stdout",
     "output_type": "stream",
     "text": [
      "Iteration 1\n",
      "Current objective value = -38.38498343471085\n",
      "Iteration 100\n",
      "Current objective value = -43.07482199504002\n",
      "Iteration 200\n",
      "Current objective value = -46.17066979106253\n",
      "Iteration 300\n",
      "Current objective value = -49.344831761018426\n",
      "Iteration 400\n",
      "Current objective value = -52.281082590545985\n",
      "Iteration 500\n",
      "Current objective value = -55.615270685462995\n",
      "Iteration 600\n",
      "Current objective value = -57.363165346381486\n",
      "Iteration 700\n",
      "Current objective value = -59.250246724186226\n",
      "Iteration 800\n",
      "Current objective value = -60.205362405332856\n",
      "Iteration 900\n",
      "Current objective value = -61.457242537147856\n",
      "Iteration 1000\n",
      "Current objective value = -62.272207011542186\n"
     ]
    }
   ],
   "source": [
    "PRd_opt = adam(grad_v_cycle_obj, (R_values_active, P_values_active, w), my_test_callback, num_iters, step_size, 0.9, 0.999, 10**-8)"
   ]
  },
  {
   "cell_type": "code",
   "execution_count": 62,
   "metadata": {
    "collapsed": false
   },
   "outputs": [
    {
     "name": "stdout",
     "output_type": "stream",
     "text": [
      "Spectral radius = 0.03484015471859753\n"
     ]
    }
   ],
   "source": [
    "print(\"Spectral radius = {}\".format(compute_spectral_radius_multigrid(A, \n",
    "                   [[]] + PRd_opt[1], P_indptr, P_indices,\n",
    "                   [[]] + PRd_opt[0], R_indptr, R_indices,\n",
    "                   num_levels-1, PRd_opt[2])))"
   ]
  },
  {
   "cell_type": "code",
   "execution_count": null,
   "metadata": {
    "collapsed": true
   },
   "outputs": [],
   "source": []
  }
 ],
 "metadata": {
  "kernelspec": {
   "display_name": "Python [ag]",
   "language": "python",
   "name": "Python [ag]"
  },
  "language_info": {
   "codemirror_mode": {
    "name": "ipython",
    "version": 3
   },
   "file_extension": ".py",
   "mimetype": "text/x-python",
   "name": "python",
   "nbconvert_exporter": "python",
   "pygments_lexer": "ipython3",
   "version": "3.6.8"
  }
 },
 "nbformat": 4,
 "nbformat_minor": 2
}

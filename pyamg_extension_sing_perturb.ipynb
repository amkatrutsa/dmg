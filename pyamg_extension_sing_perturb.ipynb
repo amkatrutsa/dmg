{
 "cells": [
  {
   "cell_type": "code",
   "execution_count": 1,
   "metadata": {
    "collapsed": true
   },
   "outputs": [],
   "source": [
    "import autograd.numpy as np\n",
    "import numpy as pure_np\n",
    "import autograd\n",
    "import scipy.sparse as spsp\n",
    "import scipy.sparse.linalg as spsplin\n",
    "import matplotlib.pyplot as plt\n",
    "%matplotlib inline\n",
    "from numba import njit\n",
    "import pyamg\n",
    "import copy"
   ]
  },
  {
   "cell_type": "markdown",
   "metadata": {},
   "source": [
    "## Generate matrix with PyAMG and compute spectral radius with the default parameters"
   ]
  },
  {
   "cell_type": "code",
   "execution_count": 2,
   "metadata": {
    "collapsed": true
   },
   "outputs": [],
   "source": [
    "n = 63\n",
    "num_levels = 5\n",
    "grid_size = (n, n)"
   ]
  },
  {
   "cell_type": "code",
   "execution_count": 3,
   "metadata": {
    "collapsed": false
   },
   "outputs": [],
   "source": [
    "h = 1. / (n+1)\n",
    "eps = 5e-3\n",
    "A = pyamg.gallery.stencil_grid(np.array([[0, - eps - h, 0], \n",
    "                                         [-h - eps, 4. * eps + h * 2, - eps],\n",
    "                                         [0, - eps, 0]]), \n",
    "                               grid_size, format=\"csr\")\n",
    "\n",
    "# A = pyamg.gallery.stencil_grid(np.array([-eps, 2*eps - h, -eps + h]), (n, ), format=\"csr\") # Instable!\n",
    "# A = pyamg.gallery.stencil_grid(np.array([-eps - h, 2*eps + h, -eps]), grid_size, format=\"csr\")"
   ]
  },
  {
   "cell_type": "code",
   "execution_count": 4,
   "metadata": {
    "collapsed": false
   },
   "outputs": [
    {
     "name": "stdout",
     "output_type": "stream",
     "text": [
      "-0.020625 0.051250000000000004\n"
     ]
    }
   ],
   "source": [
    "print(A.min(), A.max())"
   ]
  },
  {
   "cell_type": "code",
   "execution_count": 5,
   "metadata": {
    "collapsed": false
   },
   "outputs": [
    {
     "data": {
      "text/plain": [
       "(3969, 1)"
      ]
     },
     "execution_count": 5,
     "metadata": {},
     "output_type": "execute_result"
    }
   ],
   "source": [
    "if len(grid_size) == 1:\n",
    "    x_range = np.linspace(0, 1, num=n+2)\n",
    "    x_range = x_range[1:-1]\n",
    "    x_true = np.sin(np.pi * x_range)\n",
    "    rhs = (eps * np.pi**2 * x_true + np.pi * np.cos(np.pi * x_range)) / (n+1)**2\n",
    "    rhs = rhs.reshape(A.shape[0], 1)\n",
    "elif len(grid_size) == 2:\n",
    "    x0 = np.zeros((A.shape[0], 1))\n",
    "    x_range = np.linspace(0, 1, num=n+2)\n",
    "    x_range = x_range[1:-1]\n",
    "\n",
    "    x_range, y_range = np.meshgrid(x_range, x_range)\n",
    "    x_true = np.sin(np.pi * x_range) * np.sin(np.pi * y_range)\n",
    "    rhs = (2 * np.pi**2 * x_true * eps + np.pi * np.sin(np.pi * (x_range + y_range))) / (n+1)**2\n",
    "    rhs = rhs.reshape(A.shape[0], 1)\n",
    "rhs.shape"
   ]
  },
  {
   "cell_type": "code",
   "execution_count": 6,
   "metadata": {
    "collapsed": false
   },
   "outputs": [
    {
     "name": "stdout",
     "output_type": "stream",
     "text": [
      "multilevel_solver\n",
      "Number of Levels:     5\n",
      "Operator Complexity:  3.667\n",
      "Grid Complexity:      2.087\n",
      "Coarse Solver:        'pinv2'\n",
      "  level   unknowns     nonzeros\n",
      "    0         3969        19593 [27.27%]\n",
      "    1         2196        17596 [24.49%]\n",
      "    2         1210        15013 [20.89%]\n",
      "    3          598        11600 [16.14%]\n",
      "    4          309         8053 [11.21%]\n",
      "\n"
     ]
    }
   ],
   "source": [
    "ml = pyamg.ruge_stuben_solver(A, CF=\"RS\", max_levels=num_levels, \n",
    "                             presmoother=('jacobi', {'omega': 2.0/3.0, 'iterations': 2, \"withrho\": False}),\n",
    "                             postsmoother=('jacobi', {'omega': 2.0/3.0, 'iterations' : 2, \"withrho\": False})\n",
    "                             )\n",
    "\n",
    "\n",
    "print(ml)\n",
    "num_levels = len(ml.levels)"
   ]
  },
  {
   "cell_type": "code",
   "execution_count": 7,
   "metadata": {
    "collapsed": false
   },
   "outputs": [
    {
     "data": {
      "image/png": "[encoded data removed]",
      "text/plain": [
       "<Figure size 432x288 with 2 Axes>"
      ]
     },
     "metadata": {},
     "output_type": "display_data"
    }
   ],
   "source": [
    "if len(grid_size) == 1:\n",
    "    plt.plot(rhs.ravel())\n",
    "elif len(grid_size) == 2:\n",
    "    plt.imshow(rhs.reshape(n, n))\n",
    "    plt.colorbar()"
   ]
  },
  {
   "cell_type": "code",
   "execution_count": 8,
   "metadata": {
    "collapsed": true
   },
   "outputs": [],
   "source": [
    "x = ml.solve(rhs, tol=1e-10)\n",
    "x = x[:, np.newaxis]"
   ]
  },
  {
   "cell_type": "code",
   "execution_count": 9,
   "metadata": {
    "collapsed": false
   },
   "outputs": [
    {
     "data": {
      "image/png": "[encoded data removed]",
      "text/plain": [
       "<Figure size 432x288 with 2 Axes>"
      ]
     },
     "metadata": {},
     "output_type": "display_data"
    }
   ],
   "source": [
    "if len(grid_size) == 1:\n",
    "    plt.plot(x)\n",
    "elif len(grid_size) == 2:\n",
    "    plt.imshow(x.reshape(n, n))\n",
    "    plt.colorbar()"
   ]
  },
  {
   "cell_type": "code",
   "execution_count": 10,
   "metadata": {
    "collapsed": false
   },
   "outputs": [
    {
     "data": {
      "image/png": "[encoded data removed]",
      "text/plain": [
       "<Figure size 432x288 with 2 Axes>"
      ]
     },
     "metadata": {},
     "output_type": "display_data"
    }
   ],
   "source": [
    "if len(grid_size) == 1:\n",
    "    plt.plot(x_true)\n",
    "elif len(grid_size) == 2:\n",
    "    plt.imshow(x_true)\n",
    "    plt.colorbar()"
   ]
  },
  {
   "cell_type": "code",
   "execution_count": 11,
   "metadata": {
    "collapsed": false
   },
   "outputs": [
    {
     "name": "stdout",
     "output_type": "stream",
     "text": [
      "Residual norm = 3.045839856342835e-12\n",
      "Error = 0.06235299314862041\n"
     ]
    }
   ],
   "source": [
    "print(\"Residual norm = {}\".format(np.linalg.norm(rhs-A.dot(x))))\n",
    "if len(grid_size) == 2:\n",
    "    print(\"Error = {}\".format(np.linalg.norm(x_true - x.reshape(n, n))/np.linalg.norm(x_true.ravel())))\n",
    "elif len(grid_size) == 1:\n",
    "    print(\"Error = {}\".format(np.linalg.norm(x_true - x.ravel()) / np.linalg.norm(x_true.ravel())))"
   ]
  },
  {
   "cell_type": "code",
   "execution_count": 12,
   "metadata": {
    "collapsed": false
   },
   "outputs": [
    {
     "name": "stdout",
     "output_type": "stream",
     "text": [
      "(2196, 3969) (3969, 3969) (3969, 2196)\n",
      "-0.020625 0.051250000000000004\n",
      "(1210, 2196) (2196, 2196) (2196, 1210)\n",
      "-0.02263719512195122 0.05423780487804877\n",
      "(598, 1210) (1210, 1210) (1210, 598)\n",
      "-0.022036421041613546 0.06577840933822782\n",
      "(309, 598) (598, 598) (598, 309)\n",
      "-0.029068866421814145 0.10623507075684671\n",
      "(309, 309) -0.046493619132442335 0.1361876565930362\n"
     ]
    }
   ],
   "source": [
    "for l in ml.levels[:-1]:\n",
    "    print(l.R.shape, l.A.shape, l.P.shape)\n",
    "    print(l.A.min(), l.A.max())\n",
    "print(ml.levels[-1].A.shape, ml.levels[-1].A.min(), ml.levels[-1].A.max())"
   ]
  },
  {
   "cell_type": "code",
   "execution_count": 13,
   "metadata": {
    "collapsed": true
   },
   "outputs": [],
   "source": [
    "def compute_spectral_radius_pyamg(pyamg_solver):\n",
    "    n = pyamg_solver.levels[0].A.shape[0]\n",
    "    M = spsplin.LinearOperator((n, n), \n",
    "                               matvec=lambda x: pyamg_solver.solve(np.zeros((n, 1)), x0=x, maxiter=1))\n",
    "    rho = spsplin.eigs(M, k=1, return_eigenvectors=False, which=\"LM\")[0]\n",
    "    return abs(rho)"
   ]
  },
  {
   "cell_type": "code",
   "execution_count": 14,
   "metadata": {
    "collapsed": false
   },
   "outputs": [
    {
     "name": "stdout",
     "output_type": "stream",
     "text": [
      "Spectral radius for default parameters = 0.4368505856849151\n"
     ]
    }
   ],
   "source": [
    "pyamg_rho = compute_spectral_radius_pyamg(ml)\n",
    "print(\"Spectral radius for default parameters = {}\".format(pyamg_rho))"
   ]
  },
  {
   "cell_type": "markdown",
   "metadata": {},
   "source": [
    "## Custom implementation of V-cycle"
   ]
  },
  {
   "cell_type": "code",
   "execution_count": 15,
   "metadata": {
    "collapsed": true
   },
   "outputs": [],
   "source": [
    "import csr_compatible_primitives as csr_prim"
   ]
  },
  {
   "cell_type": "code",
   "execution_count": 16,
   "metadata": {
    "collapsed": true
   },
   "outputs": [],
   "source": [
    "def jacobi_smooth_sparse(A_values, A_indices, A_indptr, x0, b, w):\n",
    "    x = x0\n",
    "    n = x.shape[0]\n",
    "    d = csr_prim.get_sparse_diag(A_values, A_indices, A_indptr, n)\n",
    "    for i in range(2):\n",
    "        Ax = csr_prim.csr_matvec(A_values, A_indptr, A_indices, x)\n",
    "#         print(Ax.shape, b.shape, x.shape)\n",
    "        x = x - w * (Ax - b) / d\n",
    "    return x"
   ]
  },
  {
   "cell_type": "code",
   "execution_count": 17,
   "metadata": {
    "collapsed": true
   },
   "outputs": [],
   "source": [
    "def csr2dense(values, indices, indptr, n_col):\n",
    "    n_row = indptr.shape[0] - 1\n",
    "#     print(\"Number of rows\", n_row)\n",
    "#     print(values)\n",
    "    A = pure_np.zeros((n_row, n_col))\n",
    "    for i in range(n_row):\n",
    "        for j in range(indptr[i], indptr[i+1]):\n",
    "            A[i, indices[j]] = values[j]\n",
    "#     print(A)\n",
    "    return A"
   ]
  },
  {
   "cell_type": "code",
   "execution_count": 18,
   "metadata": {
    "collapsed": true
   },
   "outputs": [],
   "source": [
    "def V_cycle(x0, b, A_values, A_indptr, A_indices, \n",
    "                   P_values, P_indptr, P_indices,\n",
    "                   R_values, R_indptr, R_indices,\n",
    "                   level=1, w=2.0/3.0):\n",
    "    x = x0\n",
    "    if level == 0:\n",
    "        A_full = csr_prim.csr2dense(A_values[level], A_coarse_indices, A_coarse_indptr, A_coarse_indptr.shape[0] - 1)\n",
    "#         print(\"Norm of dense mat\", np.linalg.norm(A_full))\n",
    "        x = np.linalg.solve(A_full, b)\n",
    "    else:\n",
    "        x = jacobi_smooth_sparse(A_values[level], A_indices[level], A_indptr[level], x, b, w)\n",
    "        Ax = csr_prim.csr_matvec(A_values[level], A_indptr[level], A_indices[level], x)\n",
    "        res = b - Ax\n",
    "        proj_res = csr_prim.csr_matvec(R_values[level], R_indptr[level], R_indices[level], res)\n",
    "        e = np.zeros_like(proj_res)\n",
    "        u = V_cycle(e, proj_res, A_values[:-1], A_indptr[:-1], A_indices[:-1],\n",
    "                    P_values[:-1], P_indptr[:-1], P_indices[:-1], \n",
    "                    R_values[:-1], R_indptr[:-1], R_indices[:-1], \n",
    "                    level-1, w)\n",
    "        Pu = csr_prim.csr_matvec(P_values[level], P_indptr[level], P_indices[level], u)\n",
    "        x = x + Pu\n",
    "        x = jacobi_smooth_sparse(A_values[level], A_indices[level], A_indptr[level], x, b, w)\n",
    "    return x"
   ]
  },
  {
   "cell_type": "code",
   "execution_count": 19,
   "metadata": {
    "collapsed": false
   },
   "outputs": [],
   "source": [
    "A_list = [l.A.sorted_indices() for l in ml.levels]\n",
    "# for A in A_list:\n",
    "#     print(A.shape)"
   ]
  },
  {
   "cell_type": "code",
   "execution_count": 20,
   "metadata": {
    "collapsed": false
   },
   "outputs": [],
   "source": [
    "P_list = [l.P.sorted_indices() for l in ml.levels[:-1]]\n",
    "# for P in P_list:\n",
    "#     print(P.shape)"
   ]
  },
  {
   "cell_type": "code",
   "execution_count": 21,
   "metadata": {
    "collapsed": false
   },
   "outputs": [],
   "source": [
    "R_list = [l.R.sorted_indices() for l in ml.levels[:-1]]\n",
    "# for R in R_list:\n",
    "#     print(R.shape)"
   ]
  },
  {
   "cell_type": "code",
   "execution_count": 22,
   "metadata": {
    "collapsed": true
   },
   "outputs": [],
   "source": [
    "A_values = [A.data for A in A_list[::-1]]\n",
    "A_indices = [A.indices for A in A_list[::-1]]\n",
    "A_indptr = [A.indptr for A in A_list[::-1]]\n",
    "A_coarse_indices = copy.copy(A_indices[0])\n",
    "A_coarse_indptr = copy.copy(A_indptr[0])"
   ]
  },
  {
   "cell_type": "code",
   "execution_count": 23,
   "metadata": {
    "collapsed": true
   },
   "outputs": [],
   "source": [
    "P_values = [[]] + [P.data for P in P_list[::-1]]\n",
    "P_indices = [[]] + [P.indices for P in P_list[::-1]]\n",
    "P_indptr = [[]] + [P.indptr for P in P_list[::-1]]"
   ]
  },
  {
   "cell_type": "code",
   "execution_count": 24,
   "metadata": {
    "collapsed": true
   },
   "outputs": [],
   "source": [
    "R_values = [[]] + [R.data for R in R_list[::-1]]\n",
    "R_indices = [[]] + [R.indices for R in R_list[::-1]]\n",
    "R_indptr = [[]] + [R.indptr for R in R_list[::-1]]"
   ]
  },
  {
   "cell_type": "code",
   "execution_count": 25,
   "metadata": {
    "collapsed": false
   },
   "outputs": [
    {
     "name": "stdout",
     "output_type": "stream",
     "text": [
      "0.0131998903432835\n",
      "0.004531894657965775\n",
      "0.001637904963833009\n",
      "0.0006760278631025171\n",
      "0.0002764277871905562\n",
      "0.00011248686455875614\n",
      "4.871010379851203e-05\n",
      "2.101470049235952e-05\n",
      "8.831072134359403e-06\n",
      "3.837548292460476e-06\n"
     ]
    }
   ],
   "source": [
    "x = np.zeros((A.shape[0], 1))\n",
    "for i in range(10):\n",
    "    x = V_cycle(x, rhs, A_values, A_indptr, A_indices, \n",
    "                       P_values, P_indptr, P_indices,\n",
    "                       R_values, R_indptr, R_indices,\n",
    "                       level=num_levels-1, w=2.0/3.0)\n",
    "    print(np.linalg.norm(A.dot(x) - rhs))"
   ]
  },
  {
   "cell_type": "markdown",
   "metadata": {},
   "source": [
    "## Compare hierarchy with PyAMG"
   ]
  },
  {
   "cell_type": "code",
   "execution_count": 26,
   "metadata": {
    "collapsed": true
   },
   "outputs": [],
   "source": [
    "def csr_3mat(A_data, A_indptr, A_indices, \n",
    "               B_data, B_indptr, B_indices, \n",
    "               C_data, C_indptr, C_indices,\n",
    "               D_ref_indices, D_ref_indptr,\n",
    "               m, n, k, l):\n",
    "    A_csr = spsp.csr_matrix((A_data, A_indices, A_indptr), shape=(m, n))\n",
    "    B_csr = spsp.csr_matrix((B_data, B_indices, B_indptr), shape=(n, k))\n",
    "    C_csr = spsp.csr_matrix((C_data, C_indices, C_indptr), shape=(k, l))\n",
    "#     print(A_csr.dtype, B_csr.dtype, C_csr.dtype)\n",
    "    D_csr = A_csr.dot(B_csr).dot(C_csr)\n",
    "    D_csr.eliminate_zeros()\n",
    "    D_csr.sort_indices()\n",
    "    D_data = D_csr.data\n",
    "    if D_ref_indices.shape[0] != D_csr.data.shape[0]:\n",
    "#         print(\"Compare indices\")\n",
    "#         print(D_ref_indptr - D_csr.indptr)\n",
    "#         print(D_csr.indptr)\n",
    "        D_data = prune_csr_matrix(D_ref_indptr, D_ref_indices, D_csr.indptr, D_csr.indices, D_csr.data)\n",
    "#         print(np.linalg.norm(D_data))\n",
    "#     D_csr = spsp.csr_matrix((D_data, copy.copy(D_ref_indices), copy.copy(D_ref_indptr)), shape=(m, l))\n",
    "#     D_csr.sort_indices()\n",
    "#     D_data = D_csr.data\n",
    "    return D_data"
   ]
  },
  {
   "cell_type": "code",
   "execution_count": 27,
   "metadata": {
    "collapsed": true
   },
   "outputs": [],
   "source": [
    "def prune_csr_matrix(ref_indptr, ref_indices,\n",
    "                     pruned_indptr, pruned_indices, pruned_data):\n",
    "    A_grad = pure_np.zeros((ref_indices.shape[0], ))\n",
    "    value_counter = 0\n",
    "    for i in range(ref_indptr.shape[0] - 1):\n",
    "        num_col = len(ref_indices[ref_indptr[i]:ref_indptr[i+1]])\n",
    "        for k in range(ref_indptr[i], ref_indptr[i+1]):\n",
    "            for j in range(pruned_indptr[i], pruned_indptr[i+1]):\n",
    "                if ref_indices[k] == pruned_indices[j]:\n",
    "                    A_grad[k] = pruned_data[j]\n",
    "        value_counter += num_col\n",
    "    return A_grad"
   ]
  },
  {
   "cell_type": "code",
   "execution_count": 28,
   "metadata": {
    "collapsed": true
   },
   "outputs": [],
   "source": [
    "def generate_all_A(A_csr_value, A_csr_indices, A_csr_indptr, \n",
    "                   P_values, P_indices, P_indptr, \n",
    "                   R_values, R_indices, R_indptr,\n",
    "                   RAP_list_indices, RAP_list_indptr, level=1):\n",
    "    \n",
    "    A_values = [[] for i in range(level+1)]\n",
    "    A_indices = RAP_list_indices[:-1] + [A_csr_indices]\n",
    "    A_indptr = RAP_list_indptr[:-1] + [A_csr_indptr]\n",
    "#     for A_ in A_indptr:\n",
    "#         print(A_.shape)\n",
    "#     for R_ in R_indptr:\n",
    "#         print(\"R row\", len(R_))\n",
    "    A_values[level] = A_csr_value\n",
    "#     A_indices[level] = A_csr_indices\n",
    "#     A_indptr[level] = A_csr_indptr\n",
    "    \n",
    "    for l in range(level-1, -1, -1):\n",
    "#         print(\"Level\", l)\n",
    "        n = A_indptr[l+1].shape[0] - 1\n",
    "#         print(\"Matrix A dim\", n)\n",
    "        \n",
    "        n_coarse = R_indptr[l+1].shape[0] - 1\n",
    "#         print(\"R info\", R_values[l+1].shape)\n",
    "#         print(\"A info\", A_values[l+1].shape)\n",
    "#         print(\"P info\", P_values[l+1].shape)\n",
    "        A_values[l], _, _ = csr_prim.csr_3mat(R_values[l+1], R_indptr[l+1], R_indices[l+1], \n",
    "                                     A_values[l+1], A_indptr[l+1], A_indices[l+1], \n",
    "                                     P_values[l+1], P_indptr[l+1], P_indices[l+1],\n",
    "                                     A_indices[l], A_indptr[l],\n",
    "                                     n_coarse, n, n, n_coarse)\n",
    "#         print(\"norm of val\", np.linalg.norm(A_values[l+1]))\n",
    "#         print(\"Min A element in level {} = {}\".format(l, np.min(abs(A_values[l]))))\n",
    "#         print(A_values[l].shape, A_indices[l].shape)\n",
    "#     print(\"norm of val\", np.linalg.norm(A_values[0]))\n",
    "    return A_values, A_indices, A_indptr"
   ]
  },
  {
   "cell_type": "code",
   "execution_count": 29,
   "metadata": {
    "collapsed": false
   },
   "outputs": [],
   "source": [
    "trial_A_values, trial_A_indices, trial_A_indptr = generate_all_A(A.data, A.indices, A.indptr, P_values, P_indices, P_indptr, \n",
    "                   R_values, R_indices, R_indptr,\n",
    "                   A_indices, A_indptr, num_levels-1)"
   ]
  },
  {
   "cell_type": "code",
   "execution_count": 30,
   "metadata": {
    "collapsed": false
   },
   "outputs": [],
   "source": [
    "for A_val_, A_indices_, A_inptr_ in zip(trial_A_values, trial_A_indices, trial_A_indptr):\n",
    "    temp_A = spsp.csr_matrix((A_val_, A_indices_, A_inptr_))\n",
    "#     print(spsplin.norm(temp_A - ))"
   ]
  },
  {
   "cell_type": "code",
   "execution_count": null,
   "metadata": {
    "collapsed": true
   },
   "outputs": [],
   "source": []
  },
  {
   "cell_type": "code",
   "execution_count": null,
   "metadata": {
    "collapsed": true
   },
   "outputs": [],
   "source": []
  },
  {
   "cell_type": "markdown",
   "metadata": {},
   "source": [
    "### Compare spectral radius with PyAMG"
   ]
  },
  {
   "cell_type": "code",
   "execution_count": 31,
   "metadata": {
    "collapsed": true
   },
   "outputs": [],
   "source": [
    "def multigrid_matvec(x, A_values, A_indptr, A_indices, \n",
    "                   P_values, P_indptr, P_indices,\n",
    "                   R_values, R_indptr, R_indices,\n",
    "                   level, w):\n",
    "    \n",
    "    rhs = np.zeros((A_indptr[-1].shape[0] - 1, 1))\n",
    "    if len(x.shape) == 1:\n",
    "        x = x[:, np.newaxis]\n",
    "    y = V_cycle(x, rhs, A_values, A_indptr, A_indices, \n",
    "                   P_values, P_indptr, P_indices,\n",
    "                   R_values, R_indptr, R_indices,\n",
    "                   level, w)\n",
    "    return y\n",
    "\n",
    "def compute_spectral_radius_multigrid(A, \n",
    "                   P_values, P_indptr, P_indices,\n",
    "                   R_values, R_indptr, R_indices,\n",
    "                   level, w):\n",
    "    A_values, A_indices_, A_indptr_ = generate_all_A(A.data, A.indices, A.indptr, P_values, P_indices, P_indptr, \n",
    "                   R_values, R_indices, R_indptr,\n",
    "                   A_indices, A_indptr, level)\n",
    "    M = spsplin.LinearOperator((A_indptr_[-1].shape[0] - 1, A_indptr_[-1].shape[0] - 1), \n",
    "                               matvec=lambda x: multigrid_matvec(x, A_values, A_indptr_, A_indices_, \n",
    "                                               P_values, P_indptr, P_indices,\n",
    "                                               R_values, R_indptr, R_indices,\n",
    "                                               level, w))\n",
    "    rho = spsplin.eigs(M, k=1, return_eigenvectors=False, which=\"LM\")[0]\n",
    "    return abs(rho)"
   ]
  },
  {
   "cell_type": "code",
   "execution_count": 32,
   "metadata": {
    "collapsed": false
   },
   "outputs": [
    {
     "data": {
      "text/plain": [
       "0.4368505856849123"
      ]
     },
     "execution_count": 32,
     "metadata": {},
     "output_type": "execute_result"
    }
   ],
   "source": [
    "compute_spectral_radius_multigrid(A, \n",
    "                   P_values, P_indptr, P_indices,\n",
    "                   R_values, R_indptr, R_indices,\n",
    "                   level=num_levels-1, w=2./3)"
   ]
  },
  {
   "cell_type": "markdown",
   "metadata": {},
   "source": [
    "## Define all for optimization"
   ]
  },
  {
   "cell_type": "code",
   "execution_count": 33,
   "metadata": {
    "collapsed": true
   },
   "outputs": [],
   "source": [
    "def v_cycle_objective(R_values_active, P_values_active, w, x, num_levels):\n",
    "    K = 10\n",
    "    rhs = np.zeros((A.shape[0], num_trials))\n",
    "    P_values = [[]] + P_values_active\n",
    "    R_values = [[]] + R_values_active\n",
    "    A_values, A_indices_, A_indptr_ = generate_all_A(A.data, A.indices, A.indptr, \n",
    "                                                   P_values, P_indices, P_indptr, \n",
    "                                                   R_values, R_indices, R_indptr,\n",
    "                                                   A_indices, A_indptr, \n",
    "                                                   num_levels)\n",
    "    for i in range(K):\n",
    "        x = V_cycle(x, rhs, A_values, A_indptr_, A_indices_, \n",
    "                   P_values, P_indptr, P_indices,\n",
    "                   R_values, R_indptr, R_indices,\n",
    "                   num_levels, w)\n",
    "    loss = np.linalg.norm(x, \"fro\")**2\n",
    "    return np.log(loss)"
   ]
  },
  {
   "cell_type": "code",
   "execution_count": 34,
   "metadata": {
    "collapsed": false
   },
   "outputs": [
    {
     "data": {
      "text/plain": [
       "-12.501344784571955"
      ]
     },
     "execution_count": 34,
     "metadata": {},
     "output_type": "execute_result"
    }
   ],
   "source": [
    "R_values_active = [R.data for R in R_list[::-1]]\n",
    "P_values_active = [P.data for P in P_list[::-1]]\n",
    "w = 2./3\n",
    "num_trials = 5\n",
    "x_batch = 2 * np.random.randint(0, 2, (A.shape[0], num_trials)) - 1\n",
    "v_cycle_objective(R_values_active, P_values_active, w, x_batch, num_levels=num_levels-1)"
   ]
  },
  {
   "cell_type": "code",
   "execution_count": 35,
   "metadata": {
    "collapsed": true
   },
   "outputs": [],
   "source": [
    "grad = autograd.grad(v_cycle_objective, 0)"
   ]
  },
  {
   "cell_type": "code",
   "execution_count": 36,
   "metadata": {
    "collapsed": false
   },
   "outputs": [
    {
     "data": {
      "text/plain": [
       "[array([-1.25914199e-03, -4.40197837e-03,  1.46528708e-03, ...,\n",
       "        -1.18164426e-05, -2.80044332e-05,  1.40735026e-05]),\n",
       " array([ 3.17402818e-03,  6.23134757e-04, -2.92734182e-03, ...,\n",
       "        -4.23568185e-05,  1.67459562e-06,  7.38170352e-05]),\n",
       " array([ 5.52311533e-04, -4.74897503e-04,  9.01227418e-04, ...,\n",
       "         6.93197491e-06, -1.33489261e-06,  3.44794232e-06]),\n",
       " array([ 1.18708670e-03, -3.60174250e-04, -1.11073753e-03, ...,\n",
       "         2.00657223e-05,  9.64536641e-06, -3.38766251e-06])]"
      ]
     },
     "execution_count": 36,
     "metadata": {},
     "output_type": "execute_result"
    }
   ],
   "source": [
    "grad(R_values_active, P_values_active, w, x_batch, num_levels=num_levels-1)"
   ]
  },
  {
   "cell_type": "code",
   "execution_count": 37,
   "metadata": {
    "collapsed": true
   },
   "outputs": [],
   "source": [
    "# %timeit grad(R_values_active, P_values_active, w, x_batch, num_levels=num_levels-1)"
   ]
  },
  {
   "cell_type": "markdown",
   "metadata": {},
   "source": [
    "### Optimization utilities"
   ]
  },
  {
   "cell_type": "code",
   "execution_count": 38,
   "metadata": {
    "collapsed": true
   },
   "outputs": [],
   "source": [
    "from autograd.misc import flatten\n",
    "from autograd.wrap_util import wraps\n",
    "\n",
    "def unflatten_optimizer(optimize):\n",
    "    \"\"\"Takes an optimizer that operates on flat 1D numpy arrays and returns a\n",
    "    wrapped version that handles trees of nested containers (lists/tuples/dicts)\n",
    "    with arrays/scalars at the leaves.\"\"\"\n",
    "    @wraps(optimize)\n",
    "    def _optimize(grad, x0, callback=None, *args, **kwargs):\n",
    "        _x0, unflatten = flatten(x0)\n",
    "        _grad = lambda x, i: flatten(grad(unflatten(x), i))[0]\n",
    "        if callback:\n",
    "            _callback = lambda x, i, g, num_iter, *args, **kwargs: callback(unflatten(x), i, unflatten(g), num_iter, *args, **kwargs)\n",
    "        else:\n",
    "            _callback = None\n",
    "        return unflatten(optimize(_grad, _x0, _callback, *args, **kwargs))\n",
    "\n",
    "    return _optimize"
   ]
  },
  {
   "cell_type": "code",
   "execution_count": 39,
   "metadata": {
    "collapsed": true
   },
   "outputs": [],
   "source": [
    "@unflatten_optimizer\n",
    "def adam(grad, x, callback=None, num_iters=100,\n",
    "         step_size=0.001, b1=0.9, b2=0.999, eps=10**-8, *args, **kwargs):\n",
    "    \"\"\"Adam as described in http://arxiv.org/pdf/1412.6980.pdf.\n",
    "    It's basically RMSprop with momentum and some correction terms.\"\"\"\n",
    "    m = np.zeros(len(x))\n",
    "    v = np.zeros(len(x))\n",
    "    for i in range(num_iters):\n",
    "#         print(i)\n",
    "#         print(x.shape)\n",
    "        g = grad(x, i)\n",
    "        if callback: callback(x, i, g, num_iters, *args, **kwargs)\n",
    "        m = (1 - b1) * g      + b1 * m  # First  moment estimate.\n",
    "        v = (1 - b2) * (g**2) + b2 * v  # Second moment estimate.\n",
    "        mhat = m / (1 - b1**(i + 1))    # Bias correction.\n",
    "        vhat = v / (1 - b2**(i + 1))\n",
    "        x = x - step_size*mhat/(np.sqrt(vhat) + eps)\n",
    "    return x"
   ]
  },
  {
   "cell_type": "code",
   "execution_count": 44,
   "metadata": {
    "collapsed": true
   },
   "outputs": [],
   "source": [
    "def my_test_callback(params, current_iter, gradient, num_iters):\n",
    "    if current_iter == 0 or (current_iter + 1) % 10 == 0:\n",
    "        print(\"Iteration {}\".format(current_iter + 1))\n",
    "#         print(\"Spectral radius = {}\".format(compute_spectral_radius_multigrid(A, \n",
    "#                    [[]] + params[1], P_indptr, P_indices,\n",
    "#                    [[]] + params[0], R_indptr, R_indices,\n",
    "#                    num_levels-1, params[2])))\n",
    "        u = np.random.randint(0, 2, size=(A.shape[0], num_trials))\n",
    "        u = 2 * u - 1\n",
    "        print(\"Current objective value = {}\".format(v_cycle_objective(params[0], params[1], params[2], \n",
    "                                                                      u, num_levels=num_levels-1)))"
   ]
  },
  {
   "cell_type": "code",
   "execution_count": 48,
   "metadata": {
    "collapsed": true
   },
   "outputs": [],
   "source": [
    "def obj(param, n_iter):\n",
    "    x = 2 * np.random.randint(0, 2, (A.shape[0], num_trials)) - 1\n",
    "    return objective(param[0], param[1], param[2], x)\n",
    "\n",
    "def v_cycle_obj(param, n_iter):\n",
    "    x = 2 * np.random.randint(0, 2, (A.shape[0], num_trials)) - 1\n",
    "    return v_cycle_objective(param[0], param[1], param[2], x, num_levels=num_levels-1)\n",
    "\n",
    "grad_v_cycle_obj = autograd.grad(v_cycle_obj)\n",
    "num_iters = 1000\n",
    "step_size = 5e-4"
   ]
  },
  {
   "cell_type": "code",
   "execution_count": 49,
   "metadata": {
    "collapsed": false
   },
   "outputs": [],
   "source": [
    "# grad_v_cycle_obj((R_values_active, P_values_active, w), 0)"
   ]
  },
  {
   "cell_type": "code",
   "execution_count": 50,
   "metadata": {
    "collapsed": false
   },
   "outputs": [
    {
     "name": "stdout",
     "output_type": "stream",
     "text": [
      "Iteration 1\n",
      "Current objective value = -12.520919624816583\n",
      "Iteration 10\n",
      "Current objective value = -15.241029718832372\n",
      "Iteration 20\n",
      "Current objective value = -16.806725635785806\n",
      "Iteration 30\n",
      "Current objective value = -18.095610180024117\n",
      "Iteration 40\n",
      "Current objective value = -18.934272338214686\n",
      "Iteration 50\n",
      "Current objective value = -19.951955850677063\n",
      "Iteration 60\n",
      "Current objective value = -20.813888938995145\n",
      "Iteration 70\n",
      "Current objective value = -21.406517263407395\n",
      "Iteration 80\n",
      "Current objective value = -22.14607512681299\n",
      "Iteration 90\n",
      "Current objective value = -23.135876061106902\n",
      "Iteration 100\n",
      "Current objective value = -23.830376492830155\n",
      "Iteration 110\n",
      "Current objective value = -24.508433693675077\n",
      "Iteration 120\n",
      "Current objective value = -24.937043843278257\n",
      "Iteration 130\n",
      "Current objective value = -25.696928396800974\n",
      "Iteration 140\n",
      "Current objective value = -26.125138690034376\n",
      "Iteration 150\n",
      "Current objective value = -26.587243200064005\n",
      "Iteration 160\n",
      "Current objective value = -26.650489469006494\n",
      "Iteration 170\n",
      "Current objective value = -27.25692445357354\n",
      "Iteration 180\n",
      "Current objective value = -27.671241283606285\n",
      "Iteration 190\n",
      "Current objective value = -27.75708330603872\n",
      "Iteration 200\n",
      "Current objective value = -28.216982604019492\n",
      "Iteration 210\n",
      "Current objective value = -28.295444423724554\n",
      "Iteration 220\n",
      "Current objective value = -28.3716430332582\n",
      "Iteration 230\n",
      "Current objective value = -28.59934810833762\n",
      "Iteration 240\n",
      "Current objective value = -28.88370330073946\n",
      "Iteration 250\n",
      "Current objective value = -28.922603975405252\n",
      "Iteration 260\n",
      "Current objective value = -29.03123699701563\n",
      "Iteration 270\n",
      "Current objective value = -29.239278379181663\n",
      "Iteration 280\n",
      "Current objective value = -29.316016050864082\n",
      "Iteration 290\n",
      "Current objective value = -29.281526296483136\n",
      "Iteration 300\n",
      "Current objective value = -29.30997492790067\n",
      "Iteration 310\n",
      "Current objective value = -29.526026858598712\n",
      "Iteration 320\n",
      "Current objective value = -29.81441227563624\n",
      "Iteration 330\n",
      "Current objective value = -29.544158290073575\n",
      "Iteration 340\n",
      "Current objective value = -29.746224150200895\n",
      "Iteration 350\n",
      "Current objective value = -29.954286491857886\n",
      "Iteration 360\n",
      "Current objective value = -29.910896044991375\n",
      "Iteration 370\n",
      "Current objective value = -29.94740702751196\n",
      "Iteration 380\n",
      "Current objective value = -30.501449066263913\n",
      "Iteration 390\n",
      "Current objective value = -30.33603569794875\n",
      "Iteration 400\n",
      "Current objective value = -30.367366111129108\n",
      "Iteration 410\n",
      "Current objective value = -30.500924046117902\n",
      "Iteration 420\n",
      "Current objective value = -30.599853667242954\n",
      "Iteration 430\n",
      "Current objective value = -30.762581958358822\n",
      "Iteration 440\n",
      "Current objective value = -30.72314959913907\n",
      "Iteration 450\n",
      "Current objective value = -31.090529554740375\n",
      "Iteration 460\n",
      "Current objective value = -31.005346444665133\n",
      "Iteration 470\n",
      "Current objective value = -31.134202669842114\n",
      "Iteration 480\n",
      "Current objective value = -31.352907334632377\n",
      "Iteration 490\n",
      "Current objective value = -31.368599350224525\n",
      "Iteration 500\n",
      "Current objective value = -31.596420850523135\n",
      "Iteration 510\n",
      "Current objective value = -31.470019509199194\n",
      "Iteration 520\n",
      "Current objective value = -31.640659236258248\n",
      "Iteration 530\n",
      "Current objective value = -31.921495914534784\n",
      "Iteration 540\n",
      "Current objective value = -31.76481234883063\n",
      "Iteration 550\n",
      "Current objective value = -31.934072266667343\n",
      "Iteration 560\n",
      "Current objective value = -32.11822409537035\n",
      "Iteration 570\n",
      "Current objective value = -32.032057935009355\n",
      "Iteration 580\n",
      "Current objective value = -32.20825357254248\n",
      "Iteration 590\n",
      "Current objective value = -32.302928119141185\n",
      "Iteration 600\n",
      "Current objective value = -32.27728705921297\n",
      "Iteration 610\n",
      "Current objective value = -32.37108789110242\n",
      "Iteration 620\n",
      "Current objective value = -32.68045728258237\n",
      "Iteration 630\n",
      "Current objective value = -32.553624244499126\n",
      "Iteration 640\n",
      "Current objective value = -32.57792837597055\n",
      "Iteration 650\n",
      "Current objective value = -32.743843636009\n",
      "Iteration 660\n",
      "Current objective value = -32.84142855186198\n",
      "Iteration 670\n",
      "Current objective value = -32.8058476936841\n",
      "Iteration 680\n",
      "Current objective value = -32.89483786462306\n",
      "Iteration 690\n",
      "Current objective value = -32.95411691312918\n",
      "Iteration 700\n",
      "Current objective value = -33.06256588507235\n",
      "Iteration 710\n",
      "Current objective value = -33.08496953014709\n",
      "Iteration 720\n",
      "Current objective value = -33.09876598339114\n",
      "Iteration 730\n",
      "Current objective value = -33.149641326288155\n",
      "Iteration 740\n",
      "Current objective value = -33.25434122634914\n",
      "Iteration 750\n",
      "Current objective value = -33.285493589485334\n",
      "Iteration 760\n",
      "Current objective value = -33.437348770160746\n",
      "Iteration 770\n",
      "Current objective value = -33.52372107185607\n",
      "Iteration 780\n",
      "Current objective value = -33.21215706304861\n",
      "Iteration 790\n",
      "Current objective value = -33.474078644189056\n",
      "Iteration 800\n",
      "Current objective value = -33.48697126276105\n",
      "Iteration 810\n",
      "Current objective value = -33.54155546010519\n",
      "Iteration 820\n",
      "Current objective value = -33.82991407433815\n",
      "Iteration 830\n",
      "Current objective value = -33.80418423260967\n",
      "Iteration 840\n",
      "Current objective value = -33.67237234660831\n",
      "Iteration 850\n",
      "Current objective value = -33.79743311826056\n",
      "Iteration 860\n",
      "Current objective value = -33.68971568392706\n",
      "Iteration 870\n",
      "Current objective value = -33.800549857670994\n",
      "Iteration 880\n",
      "Current objective value = -33.77911560066666\n",
      "Iteration 890\n",
      "Current objective value = -33.832486077237974\n",
      "Iteration 900\n",
      "Current objective value = -33.89236701925335\n",
      "Iteration 910\n",
      "Current objective value = -33.82882567048978\n",
      "Iteration 920\n",
      "Current objective value = -33.971401558819025\n",
      "Iteration 930\n",
      "Current objective value = -34.13168235257784\n",
      "Iteration 940\n",
      "Current objective value = -33.9587454252076\n",
      "Iteration 950\n",
      "Current objective value = -34.18020952053829\n",
      "Iteration 960\n",
      "Current objective value = -34.17032930487092\n",
      "Iteration 970\n",
      "Current objective value = -34.128049620825834\n",
      "Iteration 980\n",
      "Current objective value = -34.278338153692886\n",
      "Iteration 990\n",
      "Current objective value = -34.20133244962958\n",
      "Iteration 1000\n",
      "Current objective value = -34.13478445303424\n"
     ]
    }
   ],
   "source": [
    "PRd_opt = adam(grad_v_cycle_obj, (R_values_active, P_values_active, w), my_test_callback, num_iters, step_size, 0.9, 0.999, 10**-8)"
   ]
  },
  {
   "cell_type": "code",
   "execution_count": 51,
   "metadata": {
    "collapsed": false
   },
   "outputs": [
    {
     "name": "stdout",
     "output_type": "stream",
     "text": [
      "Spectral radius = 0.11958609219828446\n"
     ]
    }
   ],
   "source": [
    "print(\"Spectral radius = {}\".format(compute_spectral_radius_multigrid(A, \n",
    "                   [[]] + PRd_opt[1], P_indptr, P_indices,\n",
    "                   [[]] + PRd_opt[0], R_indptr, R_indices,\n",
    "                   num_levels-1, PRd_opt[2])))"
   ]
  },
  {
   "cell_type": "code",
   "execution_count": null,
   "metadata": {
    "collapsed": true
   },
   "outputs": [],
   "source": []
  }
 ],
 "metadata": {
  "kernelspec": {
   "display_name": "Python [ag]",
   "language": "python",
   "name": "Python [ag]"
  },
  "language_info": {
   "codemirror_mode": {
    "name": "ipython",
    "version": 3
   },
   "file_extension": ".py",
   "mimetype": "text/x-python",
   "name": "python",
   "nbconvert_exporter": "python",
   "pygments_lexer": "ipython3",
   "version": "3.6.8"
  }
 },
 "nbformat": 4,
 "nbformat_minor": 2
}

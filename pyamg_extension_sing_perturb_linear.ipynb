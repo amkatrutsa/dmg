{
 "cells": [
  {
   "cell_type": "code",
   "execution_count": 1,
   "metadata": {
    "collapsed": true
   },
   "outputs": [],
   "source": [
    "import autograd.numpy as np\n",
    "import numpy as pure_np\n",
    "import autograd\n",
    "import scipy.sparse as spsp\n",
    "import scipy.sparse.linalg as spsplin\n",
    "import matplotlib.pyplot as plt\n",
    "%matplotlib inline\n",
    "from numba import njit\n",
    "import pyamg"
   ]
  },
  {
   "cell_type": "markdown",
   "metadata": {},
   "source": [
    "## Generate matrix with PyAMG and compute spectral radius with the default parameters"
   ]
  },
  {
   "cell_type": "code",
   "execution_count": 635,
   "metadata": {
    "collapsed": true
   },
   "outputs": [],
   "source": [
    "n = 63\n",
    "num_levels = 5\n",
    "grid_size = (n, n)"
   ]
  },
  {
   "cell_type": "code",
   "execution_count": 827,
   "metadata": {
    "collapsed": true
   },
   "outputs": [],
   "source": [
    "h = 1. / (n+1)\n",
    "eps = 1e-4\n",
    "A = pyamg.gallery.stencil_grid(np.array([[0, - eps - h, 0], \n",
    "                                         [-h - eps, 4. * eps + h * 2, - eps],\n",
    "                                         [0, - eps, 0]]), \n",
    "                               grid_size, format=\"csr\")\n",
    "\n",
    "# A = pyamg.gallery.stencil_grid(np.array([-eps, 2*eps - h, -eps + h]), (n, ), format=\"csr\") # Instable!\n",
    "# A = pyamg.gallery.stencil_grid(np.array([-eps - h, 2*eps + h, -eps]), grid_size, format=\"csr\")"
   ]
  },
  {
   "cell_type": "code",
   "execution_count": 828,
   "metadata": {
    "collapsed": false
   },
   "outputs": [
    {
     "data": {
      "text/plain": [
       "(3969, 1)"
      ]
     },
     "execution_count": 828,
     "metadata": {},
     "output_type": "execute_result"
    }
   ],
   "source": [
    "if len(grid_size) == 1:\n",
    "    x_range = np.linspace(0, 1, num=n+2)\n",
    "    x_range = x_range[1:-1]\n",
    "    x_true = np.sin(np.pi * x_range)\n",
    "    rhs = (eps * np.pi**2 * x_true + np.pi * np.cos(np.pi * x_range)) / (n+1)**2\n",
    "    rhs = rhs.reshape(A.shape[0], 1)\n",
    "elif len(grid_size) == 2:\n",
    "    x0 = np.zeros((A.shape[0], 1))\n",
    "    x_range = np.linspace(0, 1, num=n+2)\n",
    "    x_range = x_range[1:-1]\n",
    "\n",
    "    x_range, y_range = np.meshgrid(x_range, x_range)\n",
    "    x_true = np.sin(np.pi * x_range) * np.sin(np.pi * y_range)\n",
    "    rhs = (2 * np.pi**2 * x_true * eps + np.pi * np.sin(np.pi * (x_range + y_range))) / (n+1)**2\n",
    "    rhs = rhs.reshape(A.shape[0], 1)\n",
    "rhs.shape"
   ]
  },
  {
   "cell_type": "code",
   "execution_count": 829,
   "metadata": {
    "collapsed": false
   },
   "outputs": [
    {
     "name": "stdout",
     "output_type": "stream",
     "text": [
      "multilevel_solver\n",
      "Number of Levels:     5\n",
      "Operator Complexity:  3.819\n",
      "Grid Complexity:      2.137\n",
      "Coarse Solver:        'pinv2'\n",
      "  level   unknowns     nonzeros\n",
      "    0         3969        19593 [26.18%]\n",
      "    1         2196        17596 [23.51%]\n",
      "    2         1254        16248 [21.71%]\n",
      "    3          689        12367 [16.53%]\n",
      "    4          375         9030 [12.07%]\n",
      "\n"
     ]
    }
   ],
   "source": [
    "ml = pyamg.ruge_stuben_solver(A, CF=\"RS\", max_levels=num_levels, \n",
    "                             presmoother=('jacobi', {'omega': 2.0/3.0, 'iterations': 2, \"withrho\": False}),\n",
    "                             postsmoother=('jacobi', {'omega': 2.0/3.0, 'iterations' : 2, \"withrho\": False})\n",
    "                             )\n",
    "\n",
    "\n",
    "print(ml)\n",
    "num_levels = len(ml.levels)"
   ]
  },
  {
   "cell_type": "code",
   "execution_count": 830,
   "metadata": {
    "collapsed": false
   },
   "outputs": [
    {
     "data": {
      "image/png": "[encoded data removed]",
      "text/plain": [
       "<Figure size 432x288 with 2 Axes>"
      ]
     },
     "metadata": {},
     "output_type": "display_data"
    }
   ],
   "source": [
    "if len(grid_size) == 1:\n",
    "    plt.plot(rhs.ravel())\n",
    "elif len(grid_size) == 2:\n",
    "    plt.imshow(rhs.reshape(n, n))\n",
    "    plt.colorbar()"
   ]
  },
  {
   "cell_type": "code",
   "execution_count": 831,
   "metadata": {
    "collapsed": true
   },
   "outputs": [],
   "source": [
    "x = ml.solve(rhs, tol=1e-10)\n",
    "x = x[:, np.newaxis]"
   ]
  },
  {
   "cell_type": "code",
   "execution_count": 832,
   "metadata": {
    "collapsed": false
   },
   "outputs": [
    {
     "data": {
      "image/png": "[encoded data removed]",
      "text/plain": [
       "<Figure size 432x288 with 2 Axes>"
      ]
     },
     "metadata": {},
     "output_type": "display_data"
    }
   ],
   "source": [
    "if len(grid_size) == 1:\n",
    "    plt.plot(x)\n",
    "elif len(grid_size) == 2:\n",
    "    plt.imshow(x.reshape(n, n))\n",
    "    plt.colorbar()"
   ]
  },
  {
   "cell_type": "code",
   "execution_count": 833,
   "metadata": {
    "collapsed": false
   },
   "outputs": [
    {
     "data": {
      "image/png": "[encoded data removed]",
      "text/plain": [
       "<Figure size 432x288 with 2 Axes>"
      ]
     },
     "metadata": {},
     "output_type": "display_data"
    }
   ],
   "source": [
    "if len(grid_size) == 1:\n",
    "    plt.plot(x_true)\n",
    "elif len(grid_size) == 2:\n",
    "    plt.imshow(x_true)\n",
    "    plt.colorbar()"
   ]
  },
  {
   "cell_type": "code",
   "execution_count": 834,
   "metadata": {
    "collapsed": false
   },
   "outputs": [
    {
     "name": "stdout",
     "output_type": "stream",
     "text": [
      "Residual norm = 2.0579387863659945e-12\n",
      "Error = 0.06393886437403573\n"
     ]
    }
   ],
   "source": [
    "print(\"Residual norm = {}\".format(np.linalg.norm(rhs-A.dot(x))))\n",
    "if len(grid_size) == 2:\n",
    "    print(\"Error = {}\".format(np.linalg.norm(x_true - x.reshape(n, n))/np.linalg.norm(x_true.ravel())))\n",
    "elif len(grid_size) == 1:\n",
    "    print(\"Error = {}\".format(np.linalg.norm(x_true - x.ravel()) / np.linalg.norm(x_true.ravel())))"
   ]
  },
  {
   "cell_type": "code",
   "execution_count": 835,
   "metadata": {
    "collapsed": false
   },
   "outputs": [
    {
     "name": "stdout",
     "output_type": "stream",
     "text": [
      "(2196, 3969) (3969, 3969) (3969, 2196)\n",
      "-0.015725 0.03165\n",
      "(1254, 2196) (2196, 2196) (2196, 1254)\n",
      "-0.015774684044233808 0.031700315955766195\n",
      "(689, 1254) (1254, 1254) (1254, 689)\n",
      "-0.015774684044233808 0.031755451024228526\n",
      "(375, 689) (689, 689) (689, 375)\n",
      "-0.01703818758609191 0.03611176308428815\n",
      "(375, 375) -0.02742891828529236 0.1257452862498226\n"
     ]
    }
   ],
   "source": [
    "for l in ml.levels[:-1]:\n",
    "    print(l.R.shape, l.A.shape, l.P.shape)\n",
    "    print(l.A.min(), l.A.max())\n",
    "print(ml.levels[-1].A.shape, ml.levels[-1].A.min(), ml.levels[-1].A.max())"
   ]
  },
  {
   "cell_type": "code",
   "execution_count": 836,
   "metadata": {
    "collapsed": true
   },
   "outputs": [],
   "source": [
    "def compute_spectral_radius_pyamg(pyamg_solver):\n",
    "    n = pyamg_solver.levels[0].A.shape[0]\n",
    "    M = spsplin.LinearOperator((n, n), \n",
    "                               matvec=lambda x: pyamg_solver.solve(np.zeros((n, 1)), x0=x, maxiter=1))\n",
    "    rho = spsplin.eigs(M, k=1, return_eigenvectors=False, which=\"LM\")[0]\n",
    "    return abs(rho)"
   ]
  },
  {
   "cell_type": "code",
   "execution_count": 837,
   "metadata": {
    "collapsed": false
   },
   "outputs": [
    {
     "name": "stdout",
     "output_type": "stream",
     "text": [
      "Spectral radius for default parameters = 0.16591508784802236\n"
     ]
    }
   ],
   "source": [
    "pyamg_rho = compute_spectral_radius_pyamg(ml)\n",
    "print(\"Spectral radius for default parameters = {}\".format(pyamg_rho))"
   ]
  },
  {
   "cell_type": "markdown",
   "metadata": {},
   "source": [
    "## Linear interpolation hierarchy"
   ]
  },
  {
   "cell_type": "code",
   "execution_count": 838,
   "metadata": {
    "collapsed": true
   },
   "outputs": [],
   "source": [
    "def gen_linear_P(grid_size, num_levels):\n",
    "    P_list = []\n",
    "    n = grid_size[0]\n",
    "    if len(grid_size) == 1:\n",
    "        P_list.append(P)\n",
    "        \n",
    "    elif len(grid_size) == 2:\n",
    "        k = 1\n",
    "        while n > 1 and k < num_levels:\n",
    "            P = np.zeros((n, (n-1) // 2))\n",
    "            for i in range(P.shape[1]):\n",
    "                P[2*i:2*i+3, i] = np.array([0.5, 1, 0.5])\n",
    "            P_list.append(spsp.kron(spsp.csr_matrix(P), spsp.csr_matrix(P), format=\"csr\").sorted_indices())\n",
    "            n = (n-1) // 2\n",
    "            k += 1\n",
    "    return P_list\n",
    "\n",
    "def gen_linear_R(grid_size, num_levels):\n",
    "    R_list = []\n",
    "    n = grid_size[0]\n",
    "    if len(grid_size) == 1:\n",
    "        P_list.append(P)\n",
    "        \n",
    "    elif len(grid_size) == 2:\n",
    "        k = 1\n",
    "        while n > 1 and k < num_levels:\n",
    "            R = np.zeros(((n-1) // 2, n))\n",
    "            for i in range(R.shape[0]):\n",
    "                R[i, 2*i:2*i+3] = np.array([0.25, 0.5, 0.25])\n",
    "            R_list.append(spsp.kron(spsp.csr_matrix(R), spsp.csr_matrix(R), format=\"csr\").sorted_indices())\n",
    "            n = (n-1) // 2\n",
    "            k += 1\n",
    "    return R_list"
   ]
  },
  {
   "cell_type": "code",
   "execution_count": 839,
   "metadata": {
    "collapsed": false
   },
   "outputs": [
    {
     "name": "stdout",
     "output_type": "stream",
     "text": [
      "(3969, 961)\n",
      "(961, 225)\n",
      "(225, 49)\n",
      "(49, 9)\n"
     ]
    }
   ],
   "source": [
    "P_list = gen_linear_P(grid_size, num_levels)\n",
    "for P_ in P_list:\n",
    "    print(P_.shape)"
   ]
  },
  {
   "cell_type": "code",
   "execution_count": 840,
   "metadata": {
    "collapsed": false
   },
   "outputs": [
    {
     "name": "stdout",
     "output_type": "stream",
     "text": [
      "(961, 3969)\n",
      "(225, 961)\n",
      "(49, 225)\n",
      "(9, 49)\n"
     ]
    }
   ],
   "source": [
    "R_list = gen_linear_R(grid_size, num_levels)\n",
    "for R_ in R_list:\n",
    "    print(R_.shape)"
   ]
  },
  {
   "cell_type": "code",
   "execution_count": 841,
   "metadata": {
    "collapsed": false
   },
   "outputs": [],
   "source": [
    "A_list = [A]\n",
    "for i in range(len(R_list)):\n",
    "    cur_A = R_list[i].dot(A_list[i]).dot(P_list[i])\n",
    "    A_list.append(cur_A.tocsr().sorted_indices())\n",
    "# for A in A_list:\n",
    "#     print(A.shape)"
   ]
  },
  {
   "cell_type": "code",
   "execution_count": null,
   "metadata": {
    "collapsed": true
   },
   "outputs": [],
   "source": []
  },
  {
   "cell_type": "markdown",
   "metadata": {},
   "source": [
    "## Custom implementation of V-cycle"
   ]
  },
  {
   "cell_type": "code",
   "execution_count": 842,
   "metadata": {
    "collapsed": true
   },
   "outputs": [],
   "source": [
    "import csr_compatible_primitives as csr_prim"
   ]
  },
  {
   "cell_type": "code",
   "execution_count": 843,
   "metadata": {
    "collapsed": true
   },
   "outputs": [],
   "source": [
    "def jacobi_smooth_sparse(A_values, A_indices, A_indptr, x0, b, w):\n",
    "    x = x0\n",
    "    n = x.shape[0]\n",
    "    d = csr_prim.get_sparse_diag(A_values, A_indices, A_indptr, n)\n",
    "    for i in range(2):\n",
    "        Ax = csr_prim.csr_matvec(A_values, A_indptr, A_indices, x)\n",
    "        x = x - w * (Ax - b) / d\n",
    "    return x"
   ]
  },
  {
   "cell_type": "code",
   "execution_count": 844,
   "metadata": {
    "collapsed": true
   },
   "outputs": [],
   "source": [
    "def V_cycle(x0, b, A_values, A_indptr, A_indices, \n",
    "                   P_values, P_indptr, P_indices,\n",
    "                   R_values, R_indptr, R_indices,\n",
    "                   level=1, w=2.0/3.0):\n",
    "    x = x0\n",
    "    if level == 0:\n",
    "        A_full = csr_prim.csr2dense(A_values[level], A_coarse_indices, A_coarse_indptr, A_coarse_indptr.shape[0] - 1)\n",
    "        x = np.linalg.solve(A_full, b)\n",
    "    else:\n",
    "        x = jacobi_smooth_sparse(A_values[level], A_indices[level], A_indptr[level], x, b, w)\n",
    "        Ax = csr_prim.csr_matvec(A_values[level], A_indptr[level], A_indices[level], x)\n",
    "        res = b - Ax\n",
    "        proj_res = csr_prim.csr_matvec(R_values[level], R_indptr[level], R_indices[level], res)\n",
    "        e = np.zeros_like(proj_res)\n",
    "        u = V_cycle(e, proj_res, A_values[:-1], A_indptr[:-1], A_indices[:-1],\n",
    "                    P_values[:-1], P_indptr[:-1], P_indices[:-1], \n",
    "                    R_values[:-1], R_indptr[:-1], R_indices[:-1], \n",
    "                    level-1, w)\n",
    "        Pu = csr_prim.csr_matvec(P_values[level], P_indptr[level], P_indices[level], u)\n",
    "        x = x + Pu\n",
    "        x = jacobi_smooth_sparse(A_values[level], A_indices[level], A_indptr[level], x, b, w)\n",
    "    return x"
   ]
  },
  {
   "cell_type": "code",
   "execution_count": 845,
   "metadata": {
    "collapsed": true
   },
   "outputs": [],
   "source": [
    "A_values = [A.data for A in A_list[::-1]]\n",
    "A_indices = [A.indices for A in A_list[::-1]]\n",
    "A_indptr = [A.indptr for A in A_list[::-1]]\n",
    "A_coarse_indices = A_indices[0]\n",
    "A_coarse_indptr = A_indptr[0]"
   ]
  },
  {
   "cell_type": "code",
   "execution_count": 846,
   "metadata": {
    "collapsed": true
   },
   "outputs": [],
   "source": [
    "P_values = [[]] + [P.data for P in P_list[::-1]]\n",
    "P_indices = [[]] + [P.indices for P in P_list[::-1]]\n",
    "P_indptr = [[]] + [P.indptr for P in P_list[::-1]]"
   ]
  },
  {
   "cell_type": "code",
   "execution_count": 847,
   "metadata": {
    "collapsed": true
   },
   "outputs": [],
   "source": [
    "R_values = [[]] + [R.data for R in R_list[::-1]]\n",
    "R_indices = [[]] + [R.indices for R in R_list[::-1]]\n",
    "R_indptr = [[]] + [R.indptr for R in R_list[::-1]]"
   ]
  },
  {
   "cell_type": "code",
   "execution_count": 848,
   "metadata": {
    "collapsed": false
   },
   "outputs": [
    {
     "data": {
      "text/plain": [
       "(3970,)"
      ]
     },
     "execution_count": 848,
     "metadata": {},
     "output_type": "execute_result"
    }
   ],
   "source": [
    "A_indptr[-1].shape"
   ]
  },
  {
   "cell_type": "code",
   "execution_count": 849,
   "metadata": {
    "collapsed": false
   },
   "outputs": [
    {
     "name": "stdout",
     "output_type": "stream",
     "text": [
      "142.1187036619774\n",
      "6711116.291666078\n",
      "523057861778.9791\n",
      "4.078340503183049e+16\n",
      "3.160557584923485e+21\n",
      "2.4454031617207562e+26\n",
      "1.8917911419296722e+31\n",
      "1.4635467141555786e+36\n",
      "1.1322575662205263e+41\n",
      "8.759612868870926e+45\n"
     ]
    }
   ],
   "source": [
    "x = np.zeros((A.shape[0], 1))\n",
    "for i in range(10):\n",
    "    x = V_cycle(x, rhs, A_values, A_indptr, A_indices, \n",
    "                       P_values, P_indptr, P_indices,\n",
    "                       R_values, R_indptr, R_indices,\n",
    "                       level=num_levels-1, w=2.0/3.0)\n",
    "    print(np.linalg.norm(A.dot(x) - rhs))"
   ]
  },
  {
   "cell_type": "markdown",
   "metadata": {},
   "source": [
    "### Compare spectral radius with PyAMG"
   ]
  },
  {
   "cell_type": "code",
   "execution_count": 850,
   "metadata": {
    "collapsed": true
   },
   "outputs": [],
   "source": [
    "def csr_3mat(A_data, A_indptr, A_indices, \n",
    "               B_data, B_indptr, B_indices, \n",
    "               C_data, C_indptr, C_indices,\n",
    "               m, n, k, l):\n",
    "    A_csr = spsp.csr_matrix((A_data, A_indices, A_indptr), shape=(m, n))\n",
    "    A_csr.sort_indices()\n",
    "    B_csr = spsp.csr_matrix((B_data, B_indices, B_indptr), shape=(n, k))\n",
    "    B_csr.sort_indices()\n",
    "    C_csr = spsp.csr_matrix((C_data, C_indices, C_indptr), shape=(k, l))\n",
    "    C_csr.sort_indices()\n",
    "    D_csr = A_csr * B_csr * C_csr\n",
    "#     D_csr.eliminate_zeros()\n",
    "    D_csr.sort_indices()\n",
    "    return D_csr.data, D_csr.indices, D_csr.indptr"
   ]
  },
  {
   "cell_type": "code",
   "execution_count": 851,
   "metadata": {
    "collapsed": true
   },
   "outputs": [],
   "source": [
    "def generate_all_A(A_csr_value, A_csr_indices, A_csr_indptr, \n",
    "                   P_values, P_indices, P_indptr, \n",
    "                   R_values, R_indices, R_indptr,\n",
    "                   RAP_list_indices, RAP_list_indptr, level=1):\n",
    "    \n",
    "    A_values = [[] for i in range(level+1)]\n",
    "    A_indices = RAP_list_indices + [A_csr_indices]\n",
    "    A_indptr = RAP_list_indptr + [A_csr_indptr]\n",
    "    A_values[level] = A_csr_value\n",
    "#     A_indices[level] = A_csr_indices\n",
    "#     A_indptr[level] = A_csr_indptr\n",
    "    \n",
    "    for l in range(level-1, -1, -1):\n",
    "#         print(\"Level\", l)\n",
    "        n = A_indptr[l+1].shape[0] - 1\n",
    "        n_coarse = R_indptr[l+1].shape[0] - 1\n",
    "#         print(\"R info\", R_values[l+1].shape)\n",
    "#         print(\"A info\", A_values[l+1].shape)\n",
    "#         print(\"P info\", P_values[l+1].shape)\n",
    "        A_values[l], _, _ = csr_prim.csr_3mat(R_values[l+1], R_indptr[l+1], R_indices[l+1], \n",
    "                                     A_values[l+1], A_indptr[l+1], A_indices[l+1], \n",
    "                                     P_values[l+1], P_indptr[l+1], P_indices[l+1], \n",
    "                                     n_coarse, n, n, n_coarse)\n",
    "#         print(np.linalg.norm(A_values[l] - trial_A_list[-l-1].data))\n",
    "#         print(np.linalg.norm(A_values[l] - A_list[-l-1].data))\n",
    "#         print(\"Min A element in level {} = {}\".format(l, np.min(abs(A_values[l]))))\n",
    "#         print(A_values[l].shape, A_indices[l].shape, trial_A_list[-l-1].indices.shape)\n",
    "    return A_values, A_indices, A_indptr\n",
    "\n",
    "def multigrid_matvec(x, A_values, A_indptr, A_indices, \n",
    "                   P_values, P_indptr, P_indices,\n",
    "                   R_values, R_indptr, R_indices,\n",
    "                   level, w):\n",
    "    \n",
    "    rhs = np.zeros((A_indptr[-1].shape[0] - 1, 1))\n",
    "    if len(x.shape) == 1:\n",
    "        x = x[:, np.newaxis]\n",
    "    y = V_cycle(x, rhs, A_values, A_indptr, A_indices, \n",
    "                   P_values, P_indptr, P_indices,\n",
    "                   R_values, R_indptr, R_indices,\n",
    "                   level, w)\n",
    "    return y\n",
    "\n",
    "def compute_spectral_radius_multigrid(A, \n",
    "                   P_values, P_indptr, P_indices,\n",
    "                   R_values, R_indptr, R_indices,\n",
    "                   level, w):\n",
    "    A_values, A_indices_, A_indptr_ = generate_all_A(A.data, A.indices, A.indptr, P_values, P_indices, P_indptr, \n",
    "                   R_values, R_indices, R_indptr,\n",
    "                   A_indices, A_indptr, level)\n",
    "    \n",
    "#     for A_ in A_indptr_:\n",
    "#         print(A_.shape)\n",
    "    M = spsplin.LinearOperator((A_indptr_[-1].shape[0] - 1, A_indptr_[-1].shape[0] - 1), \n",
    "                               matvec=lambda x: multigrid_matvec(x, A_values, A_indptr_, A_indices_, \n",
    "                                               P_values, P_indptr, P_indices,\n",
    "                                               R_values, R_indptr, R_indices,\n",
    "                                               level, w))\n",
    "    rho = spsplin.eigs(M, k=1, return_eigenvectors=False, which=\"LM\")[0]\n",
    "    return abs(rho)"
   ]
  },
  {
   "cell_type": "code",
   "execution_count": 852,
   "metadata": {
    "collapsed": false
   },
   "outputs": [
    {
     "data": {
      "text/plain": [
       "77364.15281378642"
      ]
     },
     "execution_count": 852,
     "metadata": {},
     "output_type": "execute_result"
    }
   ],
   "source": [
    "compute_spectral_radius_multigrid(A, \n",
    "                   P_values, P_indptr, P_indices,\n",
    "                   R_values, R_indptr, R_indices,\n",
    "                   level=num_levels-1, w=2./3)"
   ]
  },
  {
   "cell_type": "markdown",
   "metadata": {},
   "source": [
    "## Define all for optimization"
   ]
  },
  {
   "cell_type": "code",
   "execution_count": 853,
   "metadata": {
    "collapsed": true
   },
   "outputs": [],
   "source": [
    "def v_cycle_objective(R_values_active, P_values_active, w, x, num_levels):\n",
    "    K = 10\n",
    "    rhs = np.zeros((A.shape[0], num_trials))\n",
    "    P_values = [[]] + P_values_active\n",
    "    R_values = [[]] + R_values_active\n",
    "    A_values, A_indices_, A_indptr_ = generate_all_A(A.data, A.indices, A.indptr, \n",
    "                                                   P_values, P_indices, P_indptr, \n",
    "                                                   R_values, R_indices, R_indptr,\n",
    "                                                   A_indices, A_indptr, \n",
    "                                                   num_levels)\n",
    "    for i in range(K):\n",
    "        x = V_cycle(x, rhs, A_values, A_indptr_, A_indices_, \n",
    "                   P_values, P_indptr, P_indices,\n",
    "                   R_values, R_indptr, R_indices,\n",
    "                   num_levels, w)\n",
    "    loss = np.linalg.norm(x, \"fro\")**2\n",
    "    return np.log(loss)"
   ]
  },
  {
   "cell_type": "code",
   "execution_count": 854,
   "metadata": {
    "collapsed": false
   },
   "outputs": [
    {
     "data": {
      "text/plain": [
       "227.50002670668647"
      ]
     },
     "execution_count": 854,
     "metadata": {},
     "output_type": "execute_result"
    }
   ],
   "source": [
    "R_values_active = [R.data for R in R_list[::-1]]\n",
    "P_values_active = [P.data for P in P_list[::-1]]\n",
    "w = 2./3\n",
    "num_trials = 5\n",
    "x_batch = 2 * np.random.randint(0, 2, (A.shape[0], num_trials)) - 1\n",
    "v_cycle_objective(R_values_active, P_values_active, w, x_batch, num_levels=num_levels-1)"
   ]
  },
  {
   "cell_type": "code",
   "execution_count": 855,
   "metadata": {
    "collapsed": true
   },
   "outputs": [],
   "source": [
    "grad = autograd.grad(v_cycle_objective, 0)"
   ]
  },
  {
   "cell_type": "code",
   "execution_count": 856,
   "metadata": {
    "collapsed": false
   },
   "outputs": [
    {
     "data": {
      "text/plain": [
       "[array([-83.22109667, -65.76074966,  23.49666551, -59.75164428,\n",
       "          7.08655879,  57.8489603 ,  38.98704216,  66.86578119,\n",
       "         -7.83876482,  -6.93539185,  -6.46601003,   6.40839235,\n",
       "        -17.10523465,   1.58780631,   8.76527621,   2.30984904,\n",
       "         12.94532885,  -4.32414011,  -7.52574   ,  -5.37194791,\n",
       "          0.74441361,  -9.6444342 ,   0.76383527,   4.61984806,\n",
       "          4.7371905 ,   9.43154698,   2.9986561 , -11.08749703,\n",
       "        -19.49015016,   2.30991119,  -9.81805745,   2.71948096,\n",
       "         14.54146742,  10.21727978,  13.40527103,  -6.02409925,\n",
       "         -7.78910294, -46.62851801,  14.89652998, -51.24062999,\n",
       "          7.04253824,  40.96520481,  18.73873909,  46.37737567,\n",
       "        -29.80487566,  -5.8296372 , -11.14346114,  -3.42607014,\n",
       "        -14.10324379,   2.08620845,   3.57233874,  11.16130074,\n",
       "         17.31363643,  -1.12359996, -10.35896579, -14.27358362,\n",
       "          6.48828961,  -8.4597814 ,   1.26867778,  13.58972364,\n",
       "          1.16349895,   7.04889435,   3.836375  ,  -6.97041115,\n",
       "        -16.88781537,  11.16141066, -16.33684954,   2.20894608,\n",
       "         20.53479742,  -5.00515919,   7.22318977,   2.78595776,\n",
       "        -34.05957888, -56.64824671,   3.26729472, -66.32477326,\n",
       "         -0.82021286,  58.33177062,  -9.3974608 ,  53.4524245 ,\n",
       "         67.88291189]),\n",
       " array([-6.38315388e+00, -8.32224601e+00, -3.99515011e+00, -7.18452286e+00,\n",
       "        -5.42797197e+00, -1.41579317e+00, -3.42557099e+00, -1.36502345e+00,\n",
       "        -1.64502543e+00, -1.90016079e+01, -1.80148872e+01, -3.05886405e+00,\n",
       "        -2.00992650e+01, -1.21284269e+01,  6.85708415e+00, -1.10569282e+01,\n",
       "        -7.75148542e-02,  1.41386514e+01, -7.24858672e+00, -6.42252423e+00,\n",
       "         8.90504743e-01, -5.58408951e+00,  8.05526150e-02,  7.84667710e+00,\n",
       "         3.59668271e+00,  9.28171057e+00,  8.58847126e+00, -2.99256223e+00,\n",
       "        -3.02691043e+00, -7.20632846e-03, -3.05806404e+00, -1.03057984e+00,\n",
       "         2.02116351e+00, -4.03120774e-02,  1.04235907e+00,  3.04644523e+00,\n",
       "        -2.07469979e+00, -1.04733270e+00, -1.19746916e-02, -7.78172625e-01,\n",
       "         1.05920089e-01,  1.27424348e+00,  4.83320526e-01,  1.18266531e+00,\n",
       "         1.11575302e+00, -2.00125418e+00, -1.98001180e+00, -1.01474814e-04,\n",
       "        -1.97338914e+00, -9.87067766e-01,  9.88975474e-01,  1.12181906e-02,\n",
       "        -2.43844135e-02,  9.76365294e-01, -1.80549896e-05, -4.03829153e-02,\n",
       "         6.18704106e-03,  4.75580622e-02,  3.63791124e-02,  9.10400994e-02,\n",
       "         1.03728893e-01,  7.36508160e-02, -2.22907605e-02, -1.81012031e+01,\n",
       "        -2.01081435e+01, -1.10569303e+01, -1.70362823e+01, -1.09864455e+01,\n",
       "         1.00238665e+00, -1.00743321e+00,  9.01346136e+00,  1.51220580e+01,\n",
       "        -4.84642893e+01, -3.65627247e+01,  1.20782711e+01, -3.39764763e+01,\n",
       "        -6.69370909e+00,  4.15227600e+01,  1.59565081e+01,  4.32685206e+01,\n",
       "         4.63953463e+01, -1.36733966e+01, -9.30135361e+00,  8.32044122e+00,\n",
       "        -5.23695156e+00,  2.23000366e+00,  1.95884293e+01,  1.41193893e+01,\n",
       "         1.84191608e+01,  1.53247357e+01, -1.67141114e+01, -1.22505225e+01,\n",
       "         3.81874657e+00, -1.30850697e+01, -2.73754063e+00,  1.35801668e+01,\n",
       "         4.50083134e+00,  1.60396105e+01,  1.57818677e+01, -5.78999869e+00,\n",
       "        -4.92314637e+00,  1.05059415e+00, -4.85319617e+00, -1.04717955e+00,\n",
       "         4.82900849e+00,  1.94436311e+00,  5.71561691e+00,  5.78477465e+00,\n",
       "        -7.16595218e+00, -4.64013583e+00,  3.52069107e-01, -4.43514315e+00,\n",
       "        -4.35923605e-01,  5.19397882e+00,  1.71748336e+00,  6.19587043e+00,\n",
       "         6.99345546e+00, -8.14937598e-01, -8.68434738e-01, -4.01125910e-02,\n",
       "         1.00658633e-01, -4.00391939e-02,  8.57772857e-01,  9.97734712e-01,\n",
       "         1.86177731e+00,  1.82069908e+00, -7.03882274e+00, -3.94629752e+00,\n",
       "         4.52900113e+00, -4.93655801e+00,  2.78250027e-01,  9.93325507e+00,\n",
       "         2.00846283e+00,  8.30481784e+00,  9.43112786e+00, -1.37101703e+01,\n",
       "        -5.31373478e+00,  1.41193893e+01, -9.49067283e+00,  2.15946018e+00,\n",
       "         1.92796289e+01,  1.12349552e+01,  2.24599130e+01,  1.61518059e+01,\n",
       "        -9.32613309e+00, -1.24215113e+01,  2.83447231e+00, -1.20404198e+01,\n",
       "        -4.84069580e+00,  1.23477146e+01,  3.30677979e+00,  1.21955220e+01,\n",
       "         1.17952575e+01, -1.59584863e+01, -1.72752266e+01, -1.15113521e+00,\n",
       "        -1.72315975e+01, -9.05504105e+00,  1.10811355e+01, -1.11194283e+00,\n",
       "         8.92379000e+00,  1.68877101e+01, -1.17805438e+01, -8.88293736e+00,\n",
       "         1.85477790e+00, -7.66718656e+00, -9.01875277e-01,  1.02993611e+01,\n",
       "         4.61378098e+00,  1.07122503e+01,  1.11094549e+01, -6.44872454e+00,\n",
       "        -5.85234754e+00,  9.97174472e-01, -5.81091520e+00, -1.09657798e+00,\n",
       "         5.69256570e+00,  2.07892450e+00,  6.65863107e+00,  6.26385563e+00,\n",
       "        -9.97305995e-01, -8.76337360e-01,  1.58857685e-01, -8.12436285e-01,\n",
       "         3.88254983e-01,  1.19843706e+00,  4.43418026e-01,  1.39186686e+00,\n",
       "         1.85460524e+00, -4.00060935e+00, -5.02109881e+00, -1.02957838e+00,\n",
       "        -3.99964060e+00, -2.02660411e+00,  2.01238616e+00, -1.09925974e-02,\n",
       "         2.98759774e+00,  4.05508032e+00, -2.05233073e+01, -1.57982156e+01,\n",
       "         5.88682149e+00, -1.57833170e+01, -3.37025761e+00,  1.91139852e+01,\n",
       "         4.97223813e+00,  1.83423769e+01,  1.98595853e+01, -1.76846010e+01,\n",
       "        -1.83198510e+01, -1.11194336e+00, -1.92224548e+01, -1.01331451e+01,\n",
       "         1.08469377e+01, -1.09598667e+00,  1.29570897e+01,  1.81960577e+01,\n",
       "        -3.78360161e+01, -2.94704567e+01,  1.15816565e+01, -2.93630666e+01,\n",
       "        -5.61193705e+00,  3.51645691e+01,  1.35481517e+01,  3.65288435e+01,\n",
       "         3.64752470e+01, -1.23126158e+01, -9.69807857e+00,  7.06074790e+00,\n",
       "        -5.48533980e+00,  9.12598512e-02,  1.67285795e+01,  1.07697121e+01,\n",
       "         1.43890205e+01,  1.10159351e+01, -1.61358026e+01, -1.43670980e+01,\n",
       "         2.34297660e+00, -1.32017606e+01, -2.07556989e+00,  1.38017421e+01,\n",
       "         6.68994962e+00,  1.83871205e+01,  1.68485605e+01, -2.13333333e+00,\n",
       "        -2.22454739e+00, -2.84215318e-01,  1.76755024e-01, -2.05524332e-01,\n",
       "         1.02293627e+00,  3.90563977e+00,  2.58428488e+00,  2.28876354e+00,\n",
       "        -2.11441490e+00, -2.13025172e+00,  5.73895751e-01, -2.03688386e+00,\n",
       "         2.00510623e-01,  2.56495322e+00,  2.22322323e-02,  2.19645647e+00,\n",
       "         2.15855509e+00, -8.74952517e+00, -7.65220990e+00,  2.96485674e+00,\n",
       "        -7.75231612e+00, -1.95689465e+00,  8.68419379e+00,  1.06972074e+00,\n",
       "         8.86118575e+00,  9.62345275e+00, -1.68588080e+01, -1.24911297e+01,\n",
       "         5.59538933e+00, -1.27629259e+01, -1.96737906e+00,  1.55736565e+01,\n",
       "         4.47087892e+00,  1.54020084e+01,  1.64444227e+01, -1.28670465e+01,\n",
       "        -6.31740222e+00,  1.07697114e+01, -9.30706830e+00,  6.22122548e-01,\n",
       "         1.50781677e+01,  8.75887944e+00,  1.81280423e+01,  1.21484065e+01,\n",
       "        -1.31664291e+01, -1.67646897e+01,  2.52848654e+00, -1.56927737e+01,\n",
       "        -7.31528073e+00,  1.37341382e+01,  2.07168375e+00,  1.31570205e+01,\n",
       "         1.31317332e+01, -2.00862476e+01, -1.92844071e+01, -1.01536560e-01,\n",
       "        -1.95053782e+01, -1.03827427e+01,  1.32515561e+01, -1.47180560e+00,\n",
       "         1.02810511e+01,  1.85715283e+01, -7.90126791e+00, -5.58961381e+00,\n",
       "         7.11939583e-01, -4.41310226e+00, -7.58300840e-01,  5.03400434e+00,\n",
       "         2.30658541e+00,  6.46156684e+00,  7.46465691e+00, -2.99787347e+00,\n",
       "        -2.98107674e+00, -9.84551598e-01, -2.98830671e+00, -1.98965493e+00,\n",
       "        -8.44936307e-03,  7.05601141e-03,  9.87915670e-01,  1.97835895e+00,\n",
       "        -1.12275054e+01, -8.53869064e+00,  3.23665151e+00, -8.87200998e+00,\n",
       "        -1.31637494e+00,  1.10339631e+01,  1.32305624e+00,  8.54359573e+00,\n",
       "         1.13474041e+01, -1.00393099e+01, -8.07817300e+00,  1.63699274e+00,\n",
       "        -8.19142431e+00, -2.06384850e+00,  8.91760328e+00,  1.27630235e+00,\n",
       "         8.35835006e+00,  9.94831290e+00, -2.03397366e+01, -1.56180723e+01,\n",
       "         7.34061973e+00, -1.70322619e+01, -4.04494339e+00,  2.15040912e+01,\n",
       "         2.91137364e+00,  1.75087632e+01,  2.23053553e+01, -2.33401672e+01,\n",
       "        -2.28261772e+01, -1.47180744e+00, -2.39262530e+01, -1.10890428e+01,\n",
       "         1.23990479e+01, -7.69504095e-01,  1.56898378e+01,  2.11923533e+01,\n",
       "        -4.30306811e+01, -3.34717312e+01,  9.94799963e+00, -3.47094024e+01,\n",
       "        -9.88234015e+00,  3.73853433e+01,  7.71170135e+00,  3.55898763e+01,\n",
       "         5.17263730e+01, -3.57110523e+00, -3.14618551e+00,  4.00124451e+00,\n",
       "         2.13831431e+00,  4.36631191e+00,  1.24500304e+01,  1.67747643e+01,\n",
       "         1.73877883e+01,  1.65263706e+01, -3.07775189e-02,  5.21125345e-02,\n",
       "         9.51602235e-02,  4.35183764e-02,  5.37844085e-02,  2.92893833e-02,\n",
       "         6.03699776e-03, -1.92861285e-02,  3.33029531e-02, -1.83042774e+00,\n",
       "        -7.12694244e-01,  3.18669608e+00, -1.94862376e+00,  1.91805974e-01,\n",
       "         3.92078172e+00,  6.03795136e-02,  3.04230778e+00,  3.63555883e+00,\n",
       "        -3.16308118e+00, -2.61394025e+00,  6.30823588e-01, -2.92810051e+00,\n",
       "        -4.23027530e-01,  2.54736762e+00,  3.21282123e-01,  3.38946566e+00,\n",
       "         3.94120040e+00, -3.75895385e+00, -1.01621892e+00,  5.20651492e+00,\n",
       "        -2.91390019e+00,  9.29146226e-02,  5.79526036e+00, -1.11217321e-01,\n",
       "         3.91874443e+00,  4.69772331e+00, -1.11970476e+01, -7.80353381e+00,\n",
       "         2.64435880e+00, -7.79701842e+00, -1.21934152e+00,  7.88816617e+00,\n",
       "         1.29296924e+00,  6.51622328e+00,  9.48911148e+00, -5.93470131e+00,\n",
       "         1.30875572e+00,  1.67747640e+01, -4.34242474e+00,  3.53254296e+00,\n",
       "         1.83509483e+01,  3.04732042e+00,  1.32467173e+01,  1.70439376e+01,\n",
       "         6.03986722e+00,  2.28548562e+00,  3.26075139e+00,  2.29186610e+00,\n",
       "         2.46102709e+00,  5.17610833e+00,  3.34430861e+00,  5.19921450e+00,\n",
       "         4.81689068e+00]),\n",
       " array([-0.06329109, -0.00914809,  0.09629046, ...,  0.01066316,\n",
       "        -0.02886128, -0.06067991]),\n",
       " array([-0.03144102, -0.0386507 , -0.01611502, ...,  0.00116787,\n",
       "         0.00059247, -0.00115302])]"
      ]
     },
     "execution_count": 856,
     "metadata": {},
     "output_type": "execute_result"
    }
   ],
   "source": [
    "grad(R_values_active, P_values_active, w, x_batch, num_levels=num_levels-1)"
   ]
  },
  {
   "cell_type": "code",
   "execution_count": 857,
   "metadata": {
    "collapsed": true
   },
   "outputs": [],
   "source": [
    "# %timeit grad(R_values_active, P_values_active, w, x_batch, num_levels=num_levels-1)"
   ]
  },
  {
   "cell_type": "markdown",
   "metadata": {},
   "source": [
    "### Optimization utilities"
   ]
  },
  {
   "cell_type": "code",
   "execution_count": 858,
   "metadata": {
    "collapsed": true
   },
   "outputs": [],
   "source": [
    "from autograd.misc import flatten\n",
    "from autograd.wrap_util import wraps\n",
    "\n",
    "def unflatten_optimizer(optimize):\n",
    "    \"\"\"Takes an optimizer that operates on flat 1D numpy arrays and returns a\n",
    "    wrapped version that handles trees of nested containers (lists/tuples/dicts)\n",
    "    with arrays/scalars at the leaves.\"\"\"\n",
    "    @wraps(optimize)\n",
    "    def _optimize(grad, x0, callback=None, *args, **kwargs):\n",
    "        _x0, unflatten = flatten(x0)\n",
    "        _grad = lambda x, i: flatten(grad(unflatten(x), i))[0]\n",
    "        if callback:\n",
    "            _callback = lambda x, i, g, num_iter, *args, **kwargs: callback(unflatten(x), i, unflatten(g), num_iter, *args, **kwargs)\n",
    "        else:\n",
    "            _callback = None\n",
    "        return unflatten(optimize(_grad, _x0, _callback, *args, **kwargs))\n",
    "\n",
    "    return _optimize"
   ]
  },
  {
   "cell_type": "code",
   "execution_count": 859,
   "metadata": {
    "collapsed": true
   },
   "outputs": [],
   "source": [
    "@unflatten_optimizer\n",
    "def adam(grad, x, callback=None, num_iters=100,\n",
    "         step_size=0.001, b1=0.9, b2=0.999, eps=10**-8, *args, **kwargs):\n",
    "    \"\"\"Adam as described in http://arxiv.org/pdf/1412.6980.pdf.\n",
    "    It's basically RMSprop with momentum and some correction terms.\"\"\"\n",
    "    m = np.zeros(len(x))\n",
    "    v = np.zeros(len(x))\n",
    "    for i in range(num_iters):\n",
    "#         print(i)\n",
    "#         print(x.shape)\n",
    "        g = grad(x, i)\n",
    "        if callback: callback(x, i, g, num_iters, *args, **kwargs)\n",
    "        m = (1 - b1) * g      + b1 * m  # First  moment estimate.\n",
    "        v = (1 - b2) * (g**2) + b2 * v  # Second moment estimate.\n",
    "        mhat = m / (1 - b1**(i + 1))    # Bias correction.\n",
    "        vhat = v / (1 - b2**(i + 1))\n",
    "        x = x - step_size*mhat/(np.sqrt(vhat) + eps)\n",
    "    return x"
   ]
  },
  {
   "cell_type": "code",
   "execution_count": 860,
   "metadata": {
    "collapsed": true
   },
   "outputs": [],
   "source": [
    "def my_test_callback(params, current_iter, gradient, num_iters):\n",
    "    if current_iter == 0 or (current_iter + 1) % 100 == 0:\n",
    "        print(\"Iteration {}\".format(current_iter + 1))\n",
    "#         print(\"Spectral radius = {}\".format(compute_spectral_radius_multigrid(A, \n",
    "#                    [[]] + params[1], P_indptr, P_indices,\n",
    "#                    [[]] + params[0], R_indptr, R_indices,\n",
    "#                    num_levels-1, params[2])))\n",
    "        u = np.random.randint(0, 2, size=(A.shape[0], num_trials))\n",
    "        u = 2 * u - 1\n",
    "        print(\"Current objective value = {}\".format(v_cycle_objective(params[0], params[1], params[2], \n",
    "                                                                      u, num_levels=num_levels-1)))"
   ]
  },
  {
   "cell_type": "code",
   "execution_count": 861,
   "metadata": {
    "collapsed": true
   },
   "outputs": [],
   "source": [
    "def obj(param, n_iter):\n",
    "    x = 2 * np.random.randint(0, 2, (A.shape[0], num_trials)) - 1\n",
    "    return objective(param[0], param[1], param[2], x)\n",
    "\n",
    "def v_cycle_obj(param, n_iter):\n",
    "    x = 2 * np.random.randint(0, 2, (A.shape[0], num_trials)) - 1\n",
    "    return v_cycle_objective(param[0], param[1], param[2], x, num_levels=num_levels-1)\n",
    "\n",
    "grad_v_cycle_obj = autograd.grad(v_cycle_obj)\n",
    "num_iters = 1000\n",
    "step_size = 5e-4"
   ]
  },
  {
   "cell_type": "code",
   "execution_count": 862,
   "metadata": {
    "collapsed": false
   },
   "outputs": [],
   "source": [
    "# grad_v_cycle_obj((R_values_active, P_values_active, w), 0)"
   ]
  },
  {
   "cell_type": "code",
   "execution_count": 863,
   "metadata": {
    "collapsed": false
   },
   "outputs": [
    {
     "name": "stdout",
     "output_type": "stream",
     "text": [
      "Iteration 1\n",
      "Current objective value = 228.1873982373761\n",
      "Iteration 100\n",
      "Current objective value = 40.729952729275325\n",
      "Iteration 200\n",
      "Current objective value = -0.2786188728346625\n",
      "Iteration 300\n",
      "Current objective value = -13.69204239647356\n",
      "Iteration 400\n",
      "Current objective value = -17.421135619776013\n",
      "Iteration 500\n",
      "Current objective value = -19.550988488501773\n",
      "Iteration 600\n",
      "Current objective value = -21.490432948144004\n",
      "Iteration 700\n",
      "Current objective value = -22.472592638831443\n",
      "Iteration 800\n",
      "Current objective value = -23.621251813611504\n",
      "Iteration 900\n",
      "Current objective value = -24.279933162595377\n",
      "Iteration 1000\n",
      "Current objective value = -24.752432072444233\n"
     ]
    }
   ],
   "source": [
    "PRd_opt = adam(grad_v_cycle_obj, (R_values_active, P_values_active, w), my_test_callback, num_iters, step_size, 0.9, 0.999, 10**-8)"
   ]
  },
  {
   "cell_type": "code",
   "execution_count": 864,
   "metadata": {
    "collapsed": false
   },
   "outputs": [
    {
     "name": "stdout",
     "output_type": "stream",
     "text": [
      "Spectral radius = 0.16136958617084693\n"
     ]
    }
   ],
   "source": [
    "print(\"Spectral radius = {}\".format(compute_spectral_radius_multigrid(A, \n",
    "                   [[]] + PRd_opt[1], P_indptr, P_indices,\n",
    "                   [[]] + PRd_opt[0], R_indptr, R_indices,\n",
    "                   num_levels-1, PRd_opt[2])))"
   ]
  },
  {
   "cell_type": "code",
   "execution_count": null,
   "metadata": {
    "collapsed": true
   },
   "outputs": [],
   "source": []
  },
  {
   "cell_type": "code",
   "execution_count": null,
   "metadata": {
    "collapsed": true
   },
   "outputs": [],
   "source": [
    "# n = 15\n",
    "# 4 grids\n",
    "eps_range = [1e-1, 5e-2, 1e-2, 5e-3, 1e-3, 5e-4, 1e-4]\n",
    "rho_lin = [0.15496, 0.19761, 8.09471, 8.91994, 19.8979, 22.18265, 24.72881]\n",
    "rho_amg = [0.20369, 0.18121, 0.26691, 0.19857, 0.14527, 0.13321, 0.11149]\n",
    "rho_opt = [0.03856, 0.02801, 0.01435, 0.01177, 0.01365, 0.01531, 0.01312]"
   ]
  },
  {
   "cell_type": "code",
   "execution_count": null,
   "metadata": {
    "collapsed": true
   },
   "outputs": [],
   "source": [
    "# n = 31\n",
    "# 5 grids\n",
    "\n",
    "rho_lin = [0.1811, 0.30053, 271.83116, 708.73456, 13047.86087, 20158.53694, 27920.22257]\n",
    "rho_amg = [0.12971, 0.32292, 0.40012, 0.31733, 0.20296, 0.17021, 0.13212]\n",
    "rho_opt = [0.09816, 0.07075, 0.02911, 0.03851, 0.05005, 0.05333, 0.05215]"
   ]
  },
  {
   "cell_type": "code",
   "execution_count": null,
   "metadata": {
    "collapsed": true
   },
   "outputs": [],
   "source": [
    "# n = 63\n",
    "# 5 grids\n",
    "rho_lin = [0.19201, 0.18259, 37.66671, 1007.94452, 10249.68035, 36602.74023, 77364.15281]\n",
    "rho_amg = [0.15643, 0.18127, 0.24857, 0.43685, 0.24601, 0.21215, 0.16591]\n",
    "rho_opt = [0.05930, -, 0.07161, 0.07574, 0.14290, 0.15431, 0.16136]\n",
    "# rho_opt[0] from amg init"
   ]
  },
  {
   "cell_type": "code",
   "execution_count": null,
   "metadata": {
    "collapsed": true
   },
   "outputs": [],
   "source": [
    "# n = 127\n",
    "# 6 grids\n",
    "rho_lin = []\n",
    "rho_amg = [0.23633, ]\n",
    "rho_opt = [0.067002, ]"
   ]
  }
 ],
 "metadata": {
  "kernelspec": {
   "display_name": "Python [ag]",
   "language": "python",
   "name": "Python [ag]"
  },
  "language_info": {
   "codemirror_mode": {
    "name": "ipython",
    "version": 3
   },
   "file_extension": ".py",
   "mimetype": "text/x-python",
   "name": "python",
   "nbconvert_exporter": "python",
   "pygments_lexer": "ipython3",
   "version": "3.6.8"
  }
 },
 "nbformat": 4,
 "nbformat_minor": 2
}
